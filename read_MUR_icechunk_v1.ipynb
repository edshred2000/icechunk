{
 "cells": [
  {
   "cell_type": "markdown",
   "id": "30804319-ffcc-41f3-adca-e6a35b1629bc",
   "metadata": {},
   "source": [
    "# Reading the MUR SST Icechunk Virtual Store with xarray and zarr-python\n",
    "\n",
    "This notebook demonstrates how to open, subset, and plot the MUR SST virtual dataset using either xarray or zarr-python. Documentation for this dataset can be found [in this design doc](https://github.com/earth-mover/icechunk-nasa/blob/main/design-docs/mursst-virtual-icechunk-store.md).\n",
    "\n",
    "It also includes a demonstration of visualizing the data with hvplot.\n",
    "\n",
    "## Step 0. Ensure required version libraries are installed including icechunk > 1.0"
   ]
  },
  {
   "cell_type": "code",
   "execution_count": 3,
   "id": "364e29f0-266e-46c3-94ca-9b4385a0de30",
   "metadata": {},
   "outputs": [],
   "source": [
    "%%capture\n",
    "!pip install icechunk==1.1.5 xarray==2025.9.0 zarr==3.0.8 earthaccess==0.14.0 kerchunk==0.2.8 virtualizarr==1.3.2 fsspec==2025.9.0"
   ]
  },
  {
   "cell_type": "code",
   "execution_count": 4,
   "id": "6a119934-89e7-4fdb-925b-0ece835bce3a",
   "metadata": {},
   "outputs": [
    {
     "name": "stdout",
     "output_type": "stream",
     "text": [
      "boto3                         1.40.18\n",
      "earthaccess                   0.14.0\n",
      "fsspec                        2025.9.0\n",
      "icechunk                      1.1.5\n",
      "kerchunk                      0.2.8\n",
      "virtualizarr                  1.3.2\n",
      "xarray                        2025.9.0\n",
      "zarr                          3.0.8\n",
      "Note: you may need to restart the kernel to use updated packages.\n"
     ]
    }
   ],
   "source": [
    "pip list | grep -E \"zarr|^xarray|virtualizarr|icechunk|kerchunk|boto3|fsspec|boto3|earthaccess\""
   ]
  },
  {
   "cell_type": "code",
   "execution_count": 1,
   "id": "ed103008-0c26-4a6b-a0fc-d988113dc567",
   "metadata": {},
   "outputs": [
    {
     "data": {
      "text/html": [
       "<script type=\"esms-options\">{\"shimMode\": true}</script><style>*[data-root-id],\n",
       "*[data-root-id] > * {\n",
       "  box-sizing: border-box;\n",
       "  font-family: var(--jp-ui-font-family);\n",
       "  font-size: var(--jp-ui-font-size1);\n",
       "  color: var(--vscode-editor-foreground, var(--jp-ui-font-color1));\n",
       "}\n",
       "\n",
       "/* Override VSCode background color */\n",
       ".cell-output-ipywidget-background:has(\n",
       "  > .cell-output-ipywidget-background > .lm-Widget > *[data-root-id]\n",
       "),\n",
       ".cell-output-ipywidget-background:has(> .lm-Widget > *[data-root-id]) {\n",
       "  background-color: transparent !important;\n",
       "}\n",
       "</style>"
      ]
     },
     "metadata": {},
     "output_type": "display_data"
    },
    {
     "data": {
      "application/javascript": [
       "(function(root) {\n",
       "  function now() {\n",
       "    return new Date();\n",
       "  }\n",
       "\n",
       "  const force = true;\n",
       "  const py_version = '3.8.0'.replace('rc', '-rc.').replace('.dev', '-dev.');\n",
       "  const reloading = false;\n",
       "  const Bokeh = root.Bokeh;\n",
       "\n",
       "  // Set a timeout for this load but only if we are not already initializing\n",
       "  if (typeof (root._bokeh_timeout) === \"undefined\" || (force || !root._bokeh_is_initializing)) {\n",
       "    root._bokeh_timeout = Date.now() + 5000;\n",
       "    root._bokeh_failed_load = false;\n",
       "  }\n",
       "\n",
       "  function run_callbacks() {\n",
       "    try {\n",
       "      root._bokeh_onload_callbacks.forEach(function(callback) {\n",
       "        if (callback != null)\n",
       "          callback();\n",
       "      });\n",
       "    } finally {\n",
       "      delete root._bokeh_onload_callbacks;\n",
       "    }\n",
       "    console.debug(\"Bokeh: all callbacks have finished\");\n",
       "  }\n",
       "\n",
       "  function load_libs(css_urls, js_urls, js_modules, js_exports, callback) {\n",
       "    if (css_urls == null) css_urls = [];\n",
       "    if (js_urls == null) js_urls = [];\n",
       "    if (js_modules == null) js_modules = [];\n",
       "    if (js_exports == null) js_exports = {};\n",
       "\n",
       "    root._bokeh_onload_callbacks.push(callback);\n",
       "\n",
       "    if (root._bokeh_is_loading > 0) {\n",
       "      // Don't load bokeh if it is still initializing\n",
       "      console.debug(\"Bokeh: BokehJS is being loaded, scheduling callback at\", now());\n",
       "      return null;\n",
       "    } else if (js_urls.length === 0 && js_modules.length === 0 && Object.keys(js_exports).length === 0) {\n",
       "      // There is nothing to load\n",
       "      run_callbacks();\n",
       "      return null;\n",
       "    }\n",
       "\n",
       "    function on_load() {\n",
       "      root._bokeh_is_loading--;\n",
       "      if (root._bokeh_is_loading === 0) {\n",
       "        console.debug(\"Bokeh: all BokehJS libraries/stylesheets loaded\");\n",
       "        run_callbacks()\n",
       "      }\n",
       "    }\n",
       "    window._bokeh_on_load = on_load\n",
       "\n",
       "    function on_error(e) {\n",
       "      const src_el = e.srcElement\n",
       "      console.error(\"failed to load \" + (src_el.href || src_el.src));\n",
       "    }\n",
       "\n",
       "    const skip = [];\n",
       "    if (window.requirejs) {\n",
       "      window.requirejs.config({'packages': {}, 'paths': {}, 'shim': {}});\n",
       "      root._bokeh_is_loading = css_urls.length + 0;\n",
       "    } else {\n",
       "      root._bokeh_is_loading = css_urls.length + js_urls.length + js_modules.length + Object.keys(js_exports).length;\n",
       "    }\n",
       "\n",
       "    const existing_stylesheets = []\n",
       "    const links = document.getElementsByTagName('link')\n",
       "    for (let i = 0; i < links.length; i++) {\n",
       "      const link = links[i]\n",
       "      if (link.href != null) {\n",
       "        existing_stylesheets.push(link.href)\n",
       "      }\n",
       "    }\n",
       "    for (let i = 0; i < css_urls.length; i++) {\n",
       "      const url = css_urls[i];\n",
       "      const escaped = encodeURI(url)\n",
       "      if (existing_stylesheets.indexOf(escaped) !== -1) {\n",
       "        on_load()\n",
       "        continue;\n",
       "      }\n",
       "      const element = document.createElement(\"link\");\n",
       "      element.onload = on_load;\n",
       "      element.onerror = on_error;\n",
       "      element.rel = \"stylesheet\";\n",
       "      element.type = \"text/css\";\n",
       "      element.href = url;\n",
       "      console.debug(\"Bokeh: injecting link tag for BokehJS stylesheet: \", url);\n",
       "      document.body.appendChild(element);\n",
       "    }    var existing_scripts = []\n",
       "    const scripts = document.getElementsByTagName('script')\n",
       "    for (let i = 0; i < scripts.length; i++) {\n",
       "      var script = scripts[i]\n",
       "      if (script.src != null) {\n",
       "        existing_scripts.push(script.src)\n",
       "      }\n",
       "    }\n",
       "    for (let i = 0; i < js_urls.length; i++) {\n",
       "      const url = js_urls[i];\n",
       "      const escaped = encodeURI(url)\n",
       "      if (skip.indexOf(escaped) !== -1 || existing_scripts.indexOf(escaped) !== -1) {\n",
       "        if (!window.requirejs) {\n",
       "          on_load();\n",
       "        }\n",
       "        continue;\n",
       "      }\n",
       "      const element = document.createElement('script');\n",
       "      element.onload = on_load;\n",
       "      element.onerror = on_error;\n",
       "      element.async = false;\n",
       "      element.src = url;\n",
       "      console.debug(\"Bokeh: injecting script tag for BokehJS library: \", url);\n",
       "      document.head.appendChild(element);\n",
       "    }\n",
       "    for (let i = 0; i < js_modules.length; i++) {\n",
       "      const url = js_modules[i];\n",
       "      const escaped = encodeURI(url)\n",
       "      if (skip.indexOf(escaped) !== -1 || existing_scripts.indexOf(escaped) !== -1) {\n",
       "        if (!window.requirejs) {\n",
       "          on_load();\n",
       "        }\n",
       "        continue;\n",
       "      }\n",
       "      var element = document.createElement('script');\n",
       "      element.onload = on_load;\n",
       "      element.onerror = on_error;\n",
       "      element.async = false;\n",
       "      element.src = url;\n",
       "      element.type = \"module\";\n",
       "      console.debug(\"Bokeh: injecting script tag for BokehJS library: \", url);\n",
       "      document.head.appendChild(element);\n",
       "    }\n",
       "    for (const name in js_exports) {\n",
       "      const url = js_exports[name];\n",
       "      const escaped = encodeURI(url)\n",
       "      if (skip.indexOf(escaped) >= 0 || root[name] != null) {\n",
       "        if (!window.requirejs) {\n",
       "          on_load();\n",
       "        }\n",
       "        continue;\n",
       "      }\n",
       "      var element = document.createElement('script');\n",
       "      element.onerror = on_error;\n",
       "      element.async = false;\n",
       "      element.type = \"module\";\n",
       "      console.debug(\"Bokeh: injecting script tag for BokehJS library: \", url);\n",
       "      element.textContent = `\n",
       "      import ${name} from \"${url}\"\n",
       "      window.${name} = ${name}\n",
       "      window._bokeh_on_load()\n",
       "      `\n",
       "      document.head.appendChild(element);\n",
       "    }\n",
       "    if (!js_urls.length && !js_modules.length) {\n",
       "      on_load()\n",
       "    }\n",
       "  };\n",
       "\n",
       "  function inject_raw_css(css) {\n",
       "    const element = document.createElement(\"style\");\n",
       "    element.appendChild(document.createTextNode(css));\n",
       "    document.body.appendChild(element);\n",
       "  }\n",
       "\n",
       "  const js_urls = [\"https://cdn.holoviz.org/panel/1.8.0/dist/bundled/reactiveesm/es-module-shims@^1.10.0/dist/es-module-shims.min.js\", \"https://cdn.bokeh.org/bokeh/release/bokeh-3.8.0.min.js\", \"https://cdn.bokeh.org/bokeh/release/bokeh-gl-3.8.0.min.js\", \"https://cdn.bokeh.org/bokeh/release/bokeh-widgets-3.8.0.min.js\", \"https://cdn.bokeh.org/bokeh/release/bokeh-tables-3.8.0.min.js\", \"https://cdn.holoviz.org/panel/1.8.0/dist/panel.min.js\"];\n",
       "  const js_modules = [];\n",
       "  const js_exports = {};\n",
       "  const css_urls = [];\n",
       "  const inline_js = [    function(Bokeh) {\n",
       "      Bokeh.set_log_level(\"info\");\n",
       "    },\n",
       "function(Bokeh) {} // ensure no trailing comma for IE\n",
       "  ];\n",
       "\n",
       "  function run_inline_js() {\n",
       "    if ((root.Bokeh !== undefined) || (force === true)) {\n",
       "      for (let i = 0; i < inline_js.length; i++) {\n",
       "        try {\n",
       "          inline_js[i].call(root, root.Bokeh);\n",
       "        } catch(e) {\n",
       "          if (!reloading) {\n",
       "            throw e;\n",
       "          }\n",
       "        }\n",
       "      }\n",
       "      // Cache old bokeh versions\n",
       "      if (Bokeh != undefined && !reloading) {\n",
       "        var NewBokeh = root.Bokeh;\n",
       "        if (Bokeh.versions === undefined) {\n",
       "          Bokeh.versions = new Map();\n",
       "        }\n",
       "        if (NewBokeh.version !== Bokeh.version) {\n",
       "          Bokeh.versions.set(NewBokeh.version, NewBokeh)\n",
       "        }\n",
       "        root.Bokeh = Bokeh;\n",
       "      }\n",
       "    } else if (Date.now() < root._bokeh_timeout) {\n",
       "      setTimeout(run_inline_js, 100);\n",
       "    } else if (!root._bokeh_failed_load) {\n",
       "      console.log(\"Bokeh: BokehJS failed to load within specified timeout.\");\n",
       "      root._bokeh_failed_load = true;\n",
       "    }\n",
       "    root._bokeh_is_initializing = false\n",
       "  }\n",
       "\n",
       "  function load_or_wait() {\n",
       "    // Implement a backoff loop that tries to ensure we do not load multiple\n",
       "    // versions of Bokeh and its dependencies at the same time.\n",
       "    // In recent versions we use the root._bokeh_is_initializing flag\n",
       "    // to determine whether there is an ongoing attempt to initialize\n",
       "    // bokeh, however for backward compatibility we also try to ensure\n",
       "    // that we do not start loading a newer (Panel>=1.0 and Bokeh>3) version\n",
       "    // before older versions are fully initialized.\n",
       "    if (root._bokeh_is_initializing && Date.now() > root._bokeh_timeout) {\n",
       "      // If the timeout and bokeh was not successfully loaded we reset\n",
       "      // everything and try loading again\n",
       "      root._bokeh_timeout = Date.now() + 5000;\n",
       "      root._bokeh_is_initializing = false;\n",
       "      root._bokeh_onload_callbacks = undefined;\n",
       "      root._bokeh_is_loading = 0\n",
       "      console.log(\"Bokeh: BokehJS was loaded multiple times but one version failed to initialize.\");\n",
       "      load_or_wait();\n",
       "    } else if (root._bokeh_is_initializing || (typeof root._bokeh_is_initializing === \"undefined\" && root._bokeh_onload_callbacks !== undefined)) {\n",
       "      setTimeout(load_or_wait, 100);\n",
       "    } else {\n",
       "      root._bokeh_is_initializing = true\n",
       "      root._bokeh_onload_callbacks = []\n",
       "      const bokeh_loaded = root.Bokeh != null && (root.Bokeh.version === py_version || (root.Bokeh.versions !== undefined && root.Bokeh.versions.has(py_version)));\n",
       "      if (!reloading && !bokeh_loaded) {\n",
       "        if (root.Bokeh) {\n",
       "          root.Bokeh = undefined;\n",
       "        }\n",
       "        console.debug(\"Bokeh: BokehJS not loaded, scheduling load and callback at\", now());\n",
       "      }\n",
       "      load_libs(css_urls, js_urls, js_modules, js_exports, function() {\n",
       "        console.debug(\"Bokeh: BokehJS plotting callback run at\", now());\n",
       "        run_inline_js();\n",
       "      });\n",
       "    }\n",
       "  }\n",
       "  // Give older versions of the autoload script a head-start to ensure\n",
       "  // they initialize before we start loading newer version.\n",
       "  setTimeout(load_or_wait, 100)\n",
       "}(window));"
      ],
      "application/vnd.holoviews_load.v0+json": "(function(root) {\n  function now() {\n    return new Date();\n  }\n\n  const force = true;\n  const py_version = '3.8.0'.replace('rc', '-rc.').replace('.dev', '-dev.');\n  const reloading = false;\n  const Bokeh = root.Bokeh;\n\n  // Set a timeout for this load but only if we are not already initializing\n  if (typeof (root._bokeh_timeout) === \"undefined\" || (force || !root._bokeh_is_initializing)) {\n    root._bokeh_timeout = Date.now() + 5000;\n    root._bokeh_failed_load = false;\n  }\n\n  function run_callbacks() {\n    try {\n      root._bokeh_onload_callbacks.forEach(function(callback) {\n        if (callback != null)\n          callback();\n      });\n    } finally {\n      delete root._bokeh_onload_callbacks;\n    }\n    console.debug(\"Bokeh: all callbacks have finished\");\n  }\n\n  function load_libs(css_urls, js_urls, js_modules, js_exports, callback) {\n    if (css_urls == null) css_urls = [];\n    if (js_urls == null) js_urls = [];\n    if (js_modules == null) js_modules = [];\n    if (js_exports == null) js_exports = {};\n\n    root._bokeh_onload_callbacks.push(callback);\n\n    if (root._bokeh_is_loading > 0) {\n      // Don't load bokeh if it is still initializing\n      console.debug(\"Bokeh: BokehJS is being loaded, scheduling callback at\", now());\n      return null;\n    } else if (js_urls.length === 0 && js_modules.length === 0 && Object.keys(js_exports).length === 0) {\n      // There is nothing to load\n      run_callbacks();\n      return null;\n    }\n\n    function on_load() {\n      root._bokeh_is_loading--;\n      if (root._bokeh_is_loading === 0) {\n        console.debug(\"Bokeh: all BokehJS libraries/stylesheets loaded\");\n        run_callbacks()\n      }\n    }\n    window._bokeh_on_load = on_load\n\n    function on_error(e) {\n      const src_el = e.srcElement\n      console.error(\"failed to load \" + (src_el.href || src_el.src));\n    }\n\n    const skip = [];\n    if (window.requirejs) {\n      window.requirejs.config({'packages': {}, 'paths': {}, 'shim': {}});\n      root._bokeh_is_loading = css_urls.length + 0;\n    } else {\n      root._bokeh_is_loading = css_urls.length + js_urls.length + js_modules.length + Object.keys(js_exports).length;\n    }\n\n    const existing_stylesheets = []\n    const links = document.getElementsByTagName('link')\n    for (let i = 0; i < links.length; i++) {\n      const link = links[i]\n      if (link.href != null) {\n        existing_stylesheets.push(link.href)\n      }\n    }\n    for (let i = 0; i < css_urls.length; i++) {\n      const url = css_urls[i];\n      const escaped = encodeURI(url)\n      if (existing_stylesheets.indexOf(escaped) !== -1) {\n        on_load()\n        continue;\n      }\n      const element = document.createElement(\"link\");\n      element.onload = on_load;\n      element.onerror = on_error;\n      element.rel = \"stylesheet\";\n      element.type = \"text/css\";\n      element.href = url;\n      console.debug(\"Bokeh: injecting link tag for BokehJS stylesheet: \", url);\n      document.body.appendChild(element);\n    }    var existing_scripts = []\n    const scripts = document.getElementsByTagName('script')\n    for (let i = 0; i < scripts.length; i++) {\n      var script = scripts[i]\n      if (script.src != null) {\n        existing_scripts.push(script.src)\n      }\n    }\n    for (let i = 0; i < js_urls.length; i++) {\n      const url = js_urls[i];\n      const escaped = encodeURI(url)\n      if (skip.indexOf(escaped) !== -1 || existing_scripts.indexOf(escaped) !== -1) {\n        if (!window.requirejs) {\n          on_load();\n        }\n        continue;\n      }\n      const element = document.createElement('script');\n      element.onload = on_load;\n      element.onerror = on_error;\n      element.async = false;\n      element.src = url;\n      console.debug(\"Bokeh: injecting script tag for BokehJS library: \", url);\n      document.head.appendChild(element);\n    }\n    for (let i = 0; i < js_modules.length; i++) {\n      const url = js_modules[i];\n      const escaped = encodeURI(url)\n      if (skip.indexOf(escaped) !== -1 || existing_scripts.indexOf(escaped) !== -1) {\n        if (!window.requirejs) {\n          on_load();\n        }\n        continue;\n      }\n      var element = document.createElement('script');\n      element.onload = on_load;\n      element.onerror = on_error;\n      element.async = false;\n      element.src = url;\n      element.type = \"module\";\n      console.debug(\"Bokeh: injecting script tag for BokehJS library: \", url);\n      document.head.appendChild(element);\n    }\n    for (const name in js_exports) {\n      const url = js_exports[name];\n      const escaped = encodeURI(url)\n      if (skip.indexOf(escaped) >= 0 || root[name] != null) {\n        if (!window.requirejs) {\n          on_load();\n        }\n        continue;\n      }\n      var element = document.createElement('script');\n      element.onerror = on_error;\n      element.async = false;\n      element.type = \"module\";\n      console.debug(\"Bokeh: injecting script tag for BokehJS library: \", url);\n      element.textContent = `\n      import ${name} from \"${url}\"\n      window.${name} = ${name}\n      window._bokeh_on_load()\n      `\n      document.head.appendChild(element);\n    }\n    if (!js_urls.length && !js_modules.length) {\n      on_load()\n    }\n  };\n\n  function inject_raw_css(css) {\n    const element = document.createElement(\"style\");\n    element.appendChild(document.createTextNode(css));\n    document.body.appendChild(element);\n  }\n\n  const js_urls = [\"https://cdn.holoviz.org/panel/1.8.0/dist/bundled/reactiveesm/es-module-shims@^1.10.0/dist/es-module-shims.min.js\", \"https://cdn.bokeh.org/bokeh/release/bokeh-3.8.0.min.js\", \"https://cdn.bokeh.org/bokeh/release/bokeh-gl-3.8.0.min.js\", \"https://cdn.bokeh.org/bokeh/release/bokeh-widgets-3.8.0.min.js\", \"https://cdn.bokeh.org/bokeh/release/bokeh-tables-3.8.0.min.js\", \"https://cdn.holoviz.org/panel/1.8.0/dist/panel.min.js\"];\n  const js_modules = [];\n  const js_exports = {};\n  const css_urls = [];\n  const inline_js = [    function(Bokeh) {\n      Bokeh.set_log_level(\"info\");\n    },\nfunction(Bokeh) {} // ensure no trailing comma for IE\n  ];\n\n  function run_inline_js() {\n    if ((root.Bokeh !== undefined) || (force === true)) {\n      for (let i = 0; i < inline_js.length; i++) {\n        try {\n          inline_js[i].call(root, root.Bokeh);\n        } catch(e) {\n          if (!reloading) {\n            throw e;\n          }\n        }\n      }\n      // Cache old bokeh versions\n      if (Bokeh != undefined && !reloading) {\n        var NewBokeh = root.Bokeh;\n        if (Bokeh.versions === undefined) {\n          Bokeh.versions = new Map();\n        }\n        if (NewBokeh.version !== Bokeh.version) {\n          Bokeh.versions.set(NewBokeh.version, NewBokeh)\n        }\n        root.Bokeh = Bokeh;\n      }\n    } else if (Date.now() < root._bokeh_timeout) {\n      setTimeout(run_inline_js, 100);\n    } else if (!root._bokeh_failed_load) {\n      console.log(\"Bokeh: BokehJS failed to load within specified timeout.\");\n      root._bokeh_failed_load = true;\n    }\n    root._bokeh_is_initializing = false\n  }\n\n  function load_or_wait() {\n    // Implement a backoff loop that tries to ensure we do not load multiple\n    // versions of Bokeh and its dependencies at the same time.\n    // In recent versions we use the root._bokeh_is_initializing flag\n    // to determine whether there is an ongoing attempt to initialize\n    // bokeh, however for backward compatibility we also try to ensure\n    // that we do not start loading a newer (Panel>=1.0 and Bokeh>3) version\n    // before older versions are fully initialized.\n    if (root._bokeh_is_initializing && Date.now() > root._bokeh_timeout) {\n      // If the timeout and bokeh was not successfully loaded we reset\n      // everything and try loading again\n      root._bokeh_timeout = Date.now() + 5000;\n      root._bokeh_is_initializing = false;\n      root._bokeh_onload_callbacks = undefined;\n      root._bokeh_is_loading = 0\n      console.log(\"Bokeh: BokehJS was loaded multiple times but one version failed to initialize.\");\n      load_or_wait();\n    } else if (root._bokeh_is_initializing || (typeof root._bokeh_is_initializing === \"undefined\" && root._bokeh_onload_callbacks !== undefined)) {\n      setTimeout(load_or_wait, 100);\n    } else {\n      root._bokeh_is_initializing = true\n      root._bokeh_onload_callbacks = []\n      const bokeh_loaded = root.Bokeh != null && (root.Bokeh.version === py_version || (root.Bokeh.versions !== undefined && root.Bokeh.versions.has(py_version)));\n      if (!reloading && !bokeh_loaded) {\n        if (root.Bokeh) {\n          root.Bokeh = undefined;\n        }\n        console.debug(\"Bokeh: BokehJS not loaded, scheduling load and callback at\", now());\n      }\n      load_libs(css_urls, js_urls, js_modules, js_exports, function() {\n        console.debug(\"Bokeh: BokehJS plotting callback run at\", now());\n        run_inline_js();\n      });\n    }\n  }\n  // Give older versions of the autoload script a head-start to ensure\n  // they initialize before we start loading newer version.\n  setTimeout(load_or_wait, 100)\n}(window));"
     },
     "metadata": {},
     "output_type": "display_data"
    },
    {
     "data": {
      "application/javascript": [
       "\n",
       "if ((window.PyViz === undefined) || (window.PyViz instanceof HTMLElement)) {\n",
       "  window.PyViz = {comms: {}, comm_status:{}, kernels:{}, receivers: {}, plot_index: []}\n",
       "}\n",
       "\n",
       "\n",
       "    function JupyterCommManager() {\n",
       "    }\n",
       "\n",
       "    JupyterCommManager.prototype.register_target = function(plot_id, comm_id, msg_handler) {\n",
       "      if (window.comm_manager || ((window.Jupyter !== undefined) && (Jupyter.notebook.kernel != null))) {\n",
       "        var comm_manager = window.comm_manager || Jupyter.notebook.kernel.comm_manager;\n",
       "        comm_manager.register_target(comm_id, function(comm) {\n",
       "          comm.on_msg(msg_handler);\n",
       "        });\n",
       "      } else if ((plot_id in window.PyViz.kernels) && (window.PyViz.kernels[plot_id])) {\n",
       "        window.PyViz.kernels[plot_id].registerCommTarget(comm_id, function(comm) {\n",
       "          comm.onMsg = msg_handler;\n",
       "        });\n",
       "      } else if (typeof google != 'undefined' && google.colab.kernel != null) {\n",
       "        google.colab.kernel.comms.registerTarget(comm_id, (comm) => {\n",
       "          var messages = comm.messages[Symbol.asyncIterator]();\n",
       "          function processIteratorResult(result) {\n",
       "            var message = result.value;\n",
       "            var content = {data: message.data, comm_id};\n",
       "            var buffers = []\n",
       "            for (var buffer of message.buffers || []) {\n",
       "              buffers.push(new DataView(buffer))\n",
       "            }\n",
       "            var metadata = message.metadata || {};\n",
       "            var msg = {content, buffers, metadata}\n",
       "            msg_handler(msg);\n",
       "            return messages.next().then(processIteratorResult);\n",
       "          }\n",
       "          return messages.next().then(processIteratorResult);\n",
       "        })\n",
       "      }\n",
       "    }\n",
       "\n",
       "    JupyterCommManager.prototype.get_client_comm = function(plot_id, comm_id, msg_handler) {\n",
       "      if (comm_id in window.PyViz.comms) {\n",
       "        return window.PyViz.comms[comm_id];\n",
       "      } else if (window.comm_manager || ((window.Jupyter !== undefined) && (Jupyter.notebook.kernel != null))) {\n",
       "        var comm_manager = window.comm_manager || Jupyter.notebook.kernel.comm_manager;\n",
       "        var comm = comm_manager.new_comm(comm_id, {}, {}, {}, comm_id);\n",
       "        if (msg_handler) {\n",
       "          comm.on_msg(msg_handler);\n",
       "        }\n",
       "      } else if ((plot_id in window.PyViz.kernels) && (window.PyViz.kernels[plot_id])) {\n",
       "        var comm = window.PyViz.kernels[plot_id].connectToComm(comm_id);\n",
       "        let retries = 0;\n",
       "        const open = () => {\n",
       "          if (comm.active) {\n",
       "            comm.open();\n",
       "          } else if (retries > 3) {\n",
       "            console.warn('Comm target never activated')\n",
       "          } else {\n",
       "            retries += 1\n",
       "            setTimeout(open, 500)\n",
       "          }\n",
       "        }\n",
       "        if (comm.active) {\n",
       "          comm.open();\n",
       "        } else {\n",
       "          setTimeout(open, 500)\n",
       "        }\n",
       "        if (msg_handler) {\n",
       "          comm.onMsg = msg_handler;\n",
       "        }\n",
       "      } else if (typeof google != 'undefined' && google.colab.kernel != null) {\n",
       "        var comm_promise = google.colab.kernel.comms.open(comm_id)\n",
       "        comm_promise.then((comm) => {\n",
       "          window.PyViz.comms[comm_id] = comm;\n",
       "          if (msg_handler) {\n",
       "            var messages = comm.messages[Symbol.asyncIterator]();\n",
       "            function processIteratorResult(result) {\n",
       "              var message = result.value;\n",
       "              var content = {data: message.data};\n",
       "              var metadata = message.metadata || {comm_id};\n",
       "              var msg = {content, metadata}\n",
       "              msg_handler(msg);\n",
       "              return messages.next().then(processIteratorResult);\n",
       "            }\n",
       "            return messages.next().then(processIteratorResult);\n",
       "          }\n",
       "        })\n",
       "        var sendClosure = (data, metadata, buffers, disposeOnDone) => {\n",
       "          return comm_promise.then((comm) => {\n",
       "            comm.send(data, metadata, buffers, disposeOnDone);\n",
       "          });\n",
       "        };\n",
       "        var comm = {\n",
       "          send: sendClosure\n",
       "        };\n",
       "      }\n",
       "      window.PyViz.comms[comm_id] = comm;\n",
       "      return comm;\n",
       "    }\n",
       "    window.PyViz.comm_manager = new JupyterCommManager();\n",
       "    \n",
       "\n",
       "\n",
       "var JS_MIME_TYPE = 'application/javascript';\n",
       "var HTML_MIME_TYPE = 'text/html';\n",
       "var EXEC_MIME_TYPE = 'application/vnd.holoviews_exec.v0+json';\n",
       "var CLASS_NAME = 'output';\n",
       "\n",
       "/**\n",
       " * Render data to the DOM node\n",
       " */\n",
       "function render(props, node) {\n",
       "  var div = document.createElement(\"div\");\n",
       "  var script = document.createElement(\"script\");\n",
       "  node.appendChild(div);\n",
       "  node.appendChild(script);\n",
       "}\n",
       "\n",
       "/**\n",
       " * Handle when a new output is added\n",
       " */\n",
       "function handle_add_output(event, handle) {\n",
       "  var output_area = handle.output_area;\n",
       "  var output = handle.output;\n",
       "  if ((output.data == undefined) || (!output.data.hasOwnProperty(EXEC_MIME_TYPE))) {\n",
       "    return\n",
       "  }\n",
       "  var id = output.metadata[EXEC_MIME_TYPE][\"id\"];\n",
       "  var toinsert = output_area.element.find(\".\" + CLASS_NAME.split(' ')[0]);\n",
       "  if (id !== undefined) {\n",
       "    var nchildren = toinsert.length;\n",
       "    var html_node = toinsert[nchildren-1].children[0];\n",
       "    html_node.innerHTML = output.data[HTML_MIME_TYPE];\n",
       "    var scripts = [];\n",
       "    var nodelist = html_node.querySelectorAll(\"script\");\n",
       "    for (var i in nodelist) {\n",
       "      if (nodelist.hasOwnProperty(i)) {\n",
       "        scripts.push(nodelist[i])\n",
       "      }\n",
       "    }\n",
       "\n",
       "    scripts.forEach( function (oldScript) {\n",
       "      var newScript = document.createElement(\"script\");\n",
       "      var attrs = [];\n",
       "      var nodemap = oldScript.attributes;\n",
       "      for (var j in nodemap) {\n",
       "        if (nodemap.hasOwnProperty(j)) {\n",
       "          attrs.push(nodemap[j])\n",
       "        }\n",
       "      }\n",
       "      attrs.forEach(function(attr) { newScript.setAttribute(attr.name, attr.value) });\n",
       "      newScript.appendChild(document.createTextNode(oldScript.innerHTML));\n",
       "      oldScript.parentNode.replaceChild(newScript, oldScript);\n",
       "    });\n",
       "    if (JS_MIME_TYPE in output.data) {\n",
       "      toinsert[nchildren-1].children[1].textContent = output.data[JS_MIME_TYPE];\n",
       "    }\n",
       "    output_area._hv_plot_id = id;\n",
       "    if ((window.Bokeh !== undefined) && (id in Bokeh.index)) {\n",
       "      window.PyViz.plot_index[id] = Bokeh.index[id];\n",
       "    } else {\n",
       "      window.PyViz.plot_index[id] = null;\n",
       "    }\n",
       "  } else if (output.metadata[EXEC_MIME_TYPE][\"server_id\"] !== undefined) {\n",
       "    var bk_div = document.createElement(\"div\");\n",
       "    bk_div.innerHTML = output.data[HTML_MIME_TYPE];\n",
       "    var script_attrs = bk_div.children[0].attributes;\n",
       "    for (var i = 0; i < script_attrs.length; i++) {\n",
       "      toinsert[toinsert.length - 1].childNodes[1].setAttribute(script_attrs[i].name, script_attrs[i].value);\n",
       "    }\n",
       "    // store reference to server id on output_area\n",
       "    output_area._bokeh_server_id = output.metadata[EXEC_MIME_TYPE][\"server_id\"];\n",
       "  }\n",
       "}\n",
       "\n",
       "/**\n",
       " * Handle when an output is cleared or removed\n",
       " */\n",
       "function handle_clear_output(event, handle) {\n",
       "  var id = handle.cell.output_area._hv_plot_id;\n",
       "  var server_id = handle.cell.output_area._bokeh_server_id;\n",
       "  if (((id === undefined) || !(id in PyViz.plot_index)) && (server_id !== undefined)) { return; }\n",
       "  var comm = window.PyViz.comm_manager.get_client_comm(\"hv-extension-comm\", \"hv-extension-comm\", function () {});\n",
       "  if (server_id !== null) {\n",
       "    comm.send({event_type: 'server_delete', 'id': server_id});\n",
       "    return;\n",
       "  } else if (comm !== null) {\n",
       "    comm.send({event_type: 'delete', 'id': id});\n",
       "  }\n",
       "  delete PyViz.plot_index[id];\n",
       "  if ((window.Bokeh !== undefined) & (id in window.Bokeh.index)) {\n",
       "    var doc = window.Bokeh.index[id].model.document\n",
       "    doc.clear();\n",
       "    const i = window.Bokeh.documents.indexOf(doc);\n",
       "    if (i > -1) {\n",
       "      window.Bokeh.documents.splice(i, 1);\n",
       "    }\n",
       "  }\n",
       "}\n",
       "\n",
       "/**\n",
       " * Handle kernel restart event\n",
       " */\n",
       "function handle_kernel_cleanup(event, handle) {\n",
       "  delete PyViz.comms[\"hv-extension-comm\"];\n",
       "  window.PyViz.plot_index = {}\n",
       "}\n",
       "\n",
       "/**\n",
       " * Handle update_display_data messages\n",
       " */\n",
       "function handle_update_output(event, handle) {\n",
       "  handle_clear_output(event, {cell: {output_area: handle.output_area}})\n",
       "  handle_add_output(event, handle)\n",
       "}\n",
       "\n",
       "function register_renderer(events, OutputArea) {\n",
       "  function append_mime(data, metadata, element) {\n",
       "    // create a DOM node to render to\n",
       "    var toinsert = this.create_output_subarea(\n",
       "    metadata,\n",
       "    CLASS_NAME,\n",
       "    EXEC_MIME_TYPE\n",
       "    );\n",
       "    this.keyboard_manager.register_events(toinsert);\n",
       "    // Render to node\n",
       "    var props = {data: data, metadata: metadata[EXEC_MIME_TYPE]};\n",
       "    render(props, toinsert[0]);\n",
       "    element.append(toinsert);\n",
       "    return toinsert\n",
       "  }\n",
       "\n",
       "  events.on('output_added.OutputArea', handle_add_output);\n",
       "  events.on('output_updated.OutputArea', handle_update_output);\n",
       "  events.on('clear_output.CodeCell', handle_clear_output);\n",
       "  events.on('delete.Cell', handle_clear_output);\n",
       "  events.on('kernel_ready.Kernel', handle_kernel_cleanup);\n",
       "\n",
       "  OutputArea.prototype.register_mime_type(EXEC_MIME_TYPE, append_mime, {\n",
       "    safe: true,\n",
       "    index: 0\n",
       "  });\n",
       "}\n",
       "\n",
       "if (window.Jupyter !== undefined) {\n",
       "  try {\n",
       "    var events = require('base/js/events');\n",
       "    var OutputArea = require('notebook/js/outputarea').OutputArea;\n",
       "    if (OutputArea.prototype.mime_types().indexOf(EXEC_MIME_TYPE) == -1) {\n",
       "      register_renderer(events, OutputArea);\n",
       "    }\n",
       "  } catch(err) {\n",
       "  }\n",
       "}\n"
      ],
      "application/vnd.holoviews_load.v0+json": "\nif ((window.PyViz === undefined) || (window.PyViz instanceof HTMLElement)) {\n  window.PyViz = {comms: {}, comm_status:{}, kernels:{}, receivers: {}, plot_index: []}\n}\n\n\n    function JupyterCommManager() {\n    }\n\n    JupyterCommManager.prototype.register_target = function(plot_id, comm_id, msg_handler) {\n      if (window.comm_manager || ((window.Jupyter !== undefined) && (Jupyter.notebook.kernel != null))) {\n        var comm_manager = window.comm_manager || Jupyter.notebook.kernel.comm_manager;\n        comm_manager.register_target(comm_id, function(comm) {\n          comm.on_msg(msg_handler);\n        });\n      } else if ((plot_id in window.PyViz.kernels) && (window.PyViz.kernels[plot_id])) {\n        window.PyViz.kernels[plot_id].registerCommTarget(comm_id, function(comm) {\n          comm.onMsg = msg_handler;\n        });\n      } else if (typeof google != 'undefined' && google.colab.kernel != null) {\n        google.colab.kernel.comms.registerTarget(comm_id, (comm) => {\n          var messages = comm.messages[Symbol.asyncIterator]();\n          function processIteratorResult(result) {\n            var message = result.value;\n            var content = {data: message.data, comm_id};\n            var buffers = []\n            for (var buffer of message.buffers || []) {\n              buffers.push(new DataView(buffer))\n            }\n            var metadata = message.metadata || {};\n            var msg = {content, buffers, metadata}\n            msg_handler(msg);\n            return messages.next().then(processIteratorResult);\n          }\n          return messages.next().then(processIteratorResult);\n        })\n      }\n    }\n\n    JupyterCommManager.prototype.get_client_comm = function(plot_id, comm_id, msg_handler) {\n      if (comm_id in window.PyViz.comms) {\n        return window.PyViz.comms[comm_id];\n      } else if (window.comm_manager || ((window.Jupyter !== undefined) && (Jupyter.notebook.kernel != null))) {\n        var comm_manager = window.comm_manager || Jupyter.notebook.kernel.comm_manager;\n        var comm = comm_manager.new_comm(comm_id, {}, {}, {}, comm_id);\n        if (msg_handler) {\n          comm.on_msg(msg_handler);\n        }\n      } else if ((plot_id in window.PyViz.kernels) && (window.PyViz.kernels[plot_id])) {\n        var comm = window.PyViz.kernels[plot_id].connectToComm(comm_id);\n        let retries = 0;\n        const open = () => {\n          if (comm.active) {\n            comm.open();\n          } else if (retries > 3) {\n            console.warn('Comm target never activated')\n          } else {\n            retries += 1\n            setTimeout(open, 500)\n          }\n        }\n        if (comm.active) {\n          comm.open();\n        } else {\n          setTimeout(open, 500)\n        }\n        if (msg_handler) {\n          comm.onMsg = msg_handler;\n        }\n      } else if (typeof google != 'undefined' && google.colab.kernel != null) {\n        var comm_promise = google.colab.kernel.comms.open(comm_id)\n        comm_promise.then((comm) => {\n          window.PyViz.comms[comm_id] = comm;\n          if (msg_handler) {\n            var messages = comm.messages[Symbol.asyncIterator]();\n            function processIteratorResult(result) {\n              var message = result.value;\n              var content = {data: message.data};\n              var metadata = message.metadata || {comm_id};\n              var msg = {content, metadata}\n              msg_handler(msg);\n              return messages.next().then(processIteratorResult);\n            }\n            return messages.next().then(processIteratorResult);\n          }\n        })\n        var sendClosure = (data, metadata, buffers, disposeOnDone) => {\n          return comm_promise.then((comm) => {\n            comm.send(data, metadata, buffers, disposeOnDone);\n          });\n        };\n        var comm = {\n          send: sendClosure\n        };\n      }\n      window.PyViz.comms[comm_id] = comm;\n      return comm;\n    }\n    window.PyViz.comm_manager = new JupyterCommManager();\n    \n\n\nvar JS_MIME_TYPE = 'application/javascript';\nvar HTML_MIME_TYPE = 'text/html';\nvar EXEC_MIME_TYPE = 'application/vnd.holoviews_exec.v0+json';\nvar CLASS_NAME = 'output';\n\n/**\n * Render data to the DOM node\n */\nfunction render(props, node) {\n  var div = document.createElement(\"div\");\n  var script = document.createElement(\"script\");\n  node.appendChild(div);\n  node.appendChild(script);\n}\n\n/**\n * Handle when a new output is added\n */\nfunction handle_add_output(event, handle) {\n  var output_area = handle.output_area;\n  var output = handle.output;\n  if ((output.data == undefined) || (!output.data.hasOwnProperty(EXEC_MIME_TYPE))) {\n    return\n  }\n  var id = output.metadata[EXEC_MIME_TYPE][\"id\"];\n  var toinsert = output_area.element.find(\".\" + CLASS_NAME.split(' ')[0]);\n  if (id !== undefined) {\n    var nchildren = toinsert.length;\n    var html_node = toinsert[nchildren-1].children[0];\n    html_node.innerHTML = output.data[HTML_MIME_TYPE];\n    var scripts = [];\n    var nodelist = html_node.querySelectorAll(\"script\");\n    for (var i in nodelist) {\n      if (nodelist.hasOwnProperty(i)) {\n        scripts.push(nodelist[i])\n      }\n    }\n\n    scripts.forEach( function (oldScript) {\n      var newScript = document.createElement(\"script\");\n      var attrs = [];\n      var nodemap = oldScript.attributes;\n      for (var j in nodemap) {\n        if (nodemap.hasOwnProperty(j)) {\n          attrs.push(nodemap[j])\n        }\n      }\n      attrs.forEach(function(attr) { newScript.setAttribute(attr.name, attr.value) });\n      newScript.appendChild(document.createTextNode(oldScript.innerHTML));\n      oldScript.parentNode.replaceChild(newScript, oldScript);\n    });\n    if (JS_MIME_TYPE in output.data) {\n      toinsert[nchildren-1].children[1].textContent = output.data[JS_MIME_TYPE];\n    }\n    output_area._hv_plot_id = id;\n    if ((window.Bokeh !== undefined) && (id in Bokeh.index)) {\n      window.PyViz.plot_index[id] = Bokeh.index[id];\n    } else {\n      window.PyViz.plot_index[id] = null;\n    }\n  } else if (output.metadata[EXEC_MIME_TYPE][\"server_id\"] !== undefined) {\n    var bk_div = document.createElement(\"div\");\n    bk_div.innerHTML = output.data[HTML_MIME_TYPE];\n    var script_attrs = bk_div.children[0].attributes;\n    for (var i = 0; i < script_attrs.length; i++) {\n      toinsert[toinsert.length - 1].childNodes[1].setAttribute(script_attrs[i].name, script_attrs[i].value);\n    }\n    // store reference to server id on output_area\n    output_area._bokeh_server_id = output.metadata[EXEC_MIME_TYPE][\"server_id\"];\n  }\n}\n\n/**\n * Handle when an output is cleared or removed\n */\nfunction handle_clear_output(event, handle) {\n  var id = handle.cell.output_area._hv_plot_id;\n  var server_id = handle.cell.output_area._bokeh_server_id;\n  if (((id === undefined) || !(id in PyViz.plot_index)) && (server_id !== undefined)) { return; }\n  var comm = window.PyViz.comm_manager.get_client_comm(\"hv-extension-comm\", \"hv-extension-comm\", function () {});\n  if (server_id !== null) {\n    comm.send({event_type: 'server_delete', 'id': server_id});\n    return;\n  } else if (comm !== null) {\n    comm.send({event_type: 'delete', 'id': id});\n  }\n  delete PyViz.plot_index[id];\n  if ((window.Bokeh !== undefined) & (id in window.Bokeh.index)) {\n    var doc = window.Bokeh.index[id].model.document\n    doc.clear();\n    const i = window.Bokeh.documents.indexOf(doc);\n    if (i > -1) {\n      window.Bokeh.documents.splice(i, 1);\n    }\n  }\n}\n\n/**\n * Handle kernel restart event\n */\nfunction handle_kernel_cleanup(event, handle) {\n  delete PyViz.comms[\"hv-extension-comm\"];\n  window.PyViz.plot_index = {}\n}\n\n/**\n * Handle update_display_data messages\n */\nfunction handle_update_output(event, handle) {\n  handle_clear_output(event, {cell: {output_area: handle.output_area}})\n  handle_add_output(event, handle)\n}\n\nfunction register_renderer(events, OutputArea) {\n  function append_mime(data, metadata, element) {\n    // create a DOM node to render to\n    var toinsert = this.create_output_subarea(\n    metadata,\n    CLASS_NAME,\n    EXEC_MIME_TYPE\n    );\n    this.keyboard_manager.register_events(toinsert);\n    // Render to node\n    var props = {data: data, metadata: metadata[EXEC_MIME_TYPE]};\n    render(props, toinsert[0]);\n    element.append(toinsert);\n    return toinsert\n  }\n\n  events.on('output_added.OutputArea', handle_add_output);\n  events.on('output_updated.OutputArea', handle_update_output);\n  events.on('clear_output.CodeCell', handle_clear_output);\n  events.on('delete.Cell', handle_clear_output);\n  events.on('kernel_ready.Kernel', handle_kernel_cleanup);\n\n  OutputArea.prototype.register_mime_type(EXEC_MIME_TYPE, append_mime, {\n    safe: true,\n    index: 0\n  });\n}\n\nif (window.Jupyter !== undefined) {\n  try {\n    var events = require('base/js/events');\n    var OutputArea = require('notebook/js/outputarea').OutputArea;\n    if (OutputArea.prototype.mime_types().indexOf(EXEC_MIME_TYPE) == -1) {\n      register_renderer(events, OutputArea);\n    }\n  } catch(err) {\n  }\n}\n"
     },
     "metadata": {},
     "output_type": "display_data"
    },
    {
     "data": {
      "application/vnd.holoviews_exec.v0+json": "",
      "text/html": [
       "<div id='851a6822-0a35-4ab0-a825-31e5dc420f75'>\n",
       "  <div id=\"a8a3d628-c603-4c28-84d0-f6d7c25d890c\" data-root-id=\"851a6822-0a35-4ab0-a825-31e5dc420f75\" style=\"display: contents;\"></div>\n",
       "</div>\n",
       "<script type=\"application/javascript\">(function(root) {\n",
       "  var docs_json = {\"438352a7-2ac1-49ce-9db2-e9a7038f29f6\":{\"version\":\"3.8.0\",\"title\":\"Bokeh Application\",\"config\":{\"type\":\"object\",\"name\":\"DocumentConfig\",\"id\":\"25d0f7a6-36c3-435b-be5e-46a4e07bfb5f\",\"attributes\":{\"notifications\":{\"type\":\"object\",\"name\":\"Notifications\",\"id\":\"0ddeffdb-834e-418d-bb8e-86e7cbe097a7\"}}},\"roots\":[{\"type\":\"object\",\"name\":\"panel.models.browser.BrowserInfo\",\"id\":\"851a6822-0a35-4ab0-a825-31e5dc420f75\"},{\"type\":\"object\",\"name\":\"panel.models.comm_manager.CommManager\",\"id\":\"51da2289-2e59-4735-8355-b67ef74cb6b0\",\"attributes\":{\"plot_id\":\"851a6822-0a35-4ab0-a825-31e5dc420f75\",\"comm_id\":\"a57bcf1bcf1242f2971a0256ba8474f3\",\"client_comm_id\":\"b36443dde23e4f11b094226977bafc61\"}}],\"defs\":[{\"type\":\"model\",\"name\":\"ReactiveHTML1\"},{\"type\":\"model\",\"name\":\"FlexBox1\",\"properties\":[{\"name\":\"align_content\",\"kind\":\"Any\",\"default\":\"flex-start\"},{\"name\":\"align_items\",\"kind\":\"Any\",\"default\":\"flex-start\"},{\"name\":\"flex_direction\",\"kind\":\"Any\",\"default\":\"row\"},{\"name\":\"flex_wrap\",\"kind\":\"Any\",\"default\":\"wrap\"},{\"name\":\"gap\",\"kind\":\"Any\",\"default\":\"\"},{\"name\":\"justify_content\",\"kind\":\"Any\",\"default\":\"flex-start\"}]},{\"type\":\"model\",\"name\":\"FloatPanel1\",\"properties\":[{\"name\":\"config\",\"kind\":\"Any\",\"default\":{\"type\":\"map\"}},{\"name\":\"contained\",\"kind\":\"Any\",\"default\":true},{\"name\":\"position\",\"kind\":\"Any\",\"default\":\"right-top\"},{\"name\":\"offsetx\",\"kind\":\"Any\",\"default\":null},{\"name\":\"offsety\",\"kind\":\"Any\",\"default\":null},{\"name\":\"theme\",\"kind\":\"Any\",\"default\":\"primary\"},{\"name\":\"status\",\"kind\":\"Any\",\"default\":\"normalized\"}]},{\"type\":\"model\",\"name\":\"GridStack1\",\"properties\":[{\"name\":\"ncols\",\"kind\":\"Any\",\"default\":null},{\"name\":\"nrows\",\"kind\":\"Any\",\"default\":null},{\"name\":\"allow_resize\",\"kind\":\"Any\",\"default\":true},{\"name\":\"allow_drag\",\"kind\":\"Any\",\"default\":true},{\"name\":\"state\",\"kind\":\"Any\",\"default\":[]}]},{\"type\":\"model\",\"name\":\"drag1\",\"properties\":[{\"name\":\"slider_width\",\"kind\":\"Any\",\"default\":5},{\"name\":\"slider_color\",\"kind\":\"Any\",\"default\":\"black\"},{\"name\":\"start\",\"kind\":\"Any\",\"default\":0},{\"name\":\"end\",\"kind\":\"Any\",\"default\":100},{\"name\":\"value\",\"kind\":\"Any\",\"default\":50}]},{\"type\":\"model\",\"name\":\"click1\",\"properties\":[{\"name\":\"terminal_output\",\"kind\":\"Any\",\"default\":\"\"},{\"name\":\"debug_name\",\"kind\":\"Any\",\"default\":\"\"},{\"name\":\"clears\",\"kind\":\"Any\",\"default\":0}]},{\"type\":\"model\",\"name\":\"ReactiveESM1\",\"properties\":[{\"name\":\"esm_constants\",\"kind\":\"Any\",\"default\":{\"type\":\"map\"}}]},{\"type\":\"model\",\"name\":\"JSComponent1\",\"properties\":[{\"name\":\"esm_constants\",\"kind\":\"Any\",\"default\":{\"type\":\"map\"}}]},{\"type\":\"model\",\"name\":\"ReactComponent1\",\"properties\":[{\"name\":\"use_shadow_dom\",\"kind\":\"Any\",\"default\":true},{\"name\":\"esm_constants\",\"kind\":\"Any\",\"default\":{\"type\":\"map\"}}]},{\"type\":\"model\",\"name\":\"AnyWidgetComponent1\",\"properties\":[{\"name\":\"use_shadow_dom\",\"kind\":\"Any\",\"default\":true},{\"name\":\"esm_constants\",\"kind\":\"Any\",\"default\":{\"type\":\"map\"}}]},{\"type\":\"model\",\"name\":\"FastWrapper1\",\"properties\":[{\"name\":\"object\",\"kind\":\"Any\",\"default\":null},{\"name\":\"style\",\"kind\":\"Any\",\"default\":null}]},{\"type\":\"model\",\"name\":\"NotificationArea1\",\"properties\":[{\"name\":\"js_events\",\"kind\":\"Any\",\"default\":{\"type\":\"map\"}},{\"name\":\"max_notifications\",\"kind\":\"Any\",\"default\":5},{\"name\":\"notifications\",\"kind\":\"Any\",\"default\":[]},{\"name\":\"position\",\"kind\":\"Any\",\"default\":\"bottom-right\"},{\"name\":\"_clear\",\"kind\":\"Any\",\"default\":0},{\"name\":\"types\",\"kind\":\"Any\",\"default\":[{\"type\":\"map\",\"entries\":[[\"type\",\"warning\"],[\"background\",\"#ffc107\"],[\"icon\",{\"type\":\"map\",\"entries\":[[\"className\",\"fas fa-exclamation-triangle\"],[\"tagName\",\"i\"],[\"color\",\"white\"]]}]]},{\"type\":\"map\",\"entries\":[[\"type\",\"info\"],[\"background\",\"#007bff\"],[\"icon\",{\"type\":\"map\",\"entries\":[[\"className\",\"fas fa-info-circle\"],[\"tagName\",\"i\"],[\"color\",\"white\"]]}]]}]}]},{\"type\":\"model\",\"name\":\"Notification\",\"properties\":[{\"name\":\"background\",\"kind\":\"Any\",\"default\":null},{\"name\":\"duration\",\"kind\":\"Any\",\"default\":3000},{\"name\":\"icon\",\"kind\":\"Any\",\"default\":null},{\"name\":\"message\",\"kind\":\"Any\",\"default\":\"\"},{\"name\":\"notification_type\",\"kind\":\"Any\",\"default\":null},{\"name\":\"_rendered\",\"kind\":\"Any\",\"default\":false},{\"name\":\"_destroyed\",\"kind\":\"Any\",\"default\":false}]},{\"type\":\"model\",\"name\":\"TemplateActions1\",\"properties\":[{\"name\":\"open_modal\",\"kind\":\"Any\",\"default\":0},{\"name\":\"close_modal\",\"kind\":\"Any\",\"default\":0}]},{\"type\":\"model\",\"name\":\"BootstrapTemplateActions1\",\"properties\":[{\"name\":\"open_modal\",\"kind\":\"Any\",\"default\":0},{\"name\":\"close_modal\",\"kind\":\"Any\",\"default\":0}]},{\"type\":\"model\",\"name\":\"TemplateEditor1\",\"properties\":[{\"name\":\"layout\",\"kind\":\"Any\",\"default\":[]}]},{\"type\":\"model\",\"name\":\"MaterialTemplateActions1\",\"properties\":[{\"name\":\"open_modal\",\"kind\":\"Any\",\"default\":0},{\"name\":\"close_modal\",\"kind\":\"Any\",\"default\":0}]},{\"type\":\"model\",\"name\":\"request_value1\",\"properties\":[{\"name\":\"fill\",\"kind\":\"Any\",\"default\":\"none\"},{\"name\":\"_synced\",\"kind\":\"Any\",\"default\":null},{\"name\":\"_request_sync\",\"kind\":\"Any\",\"default\":0}]},{\"type\":\"model\",\"name\":\"holoviews.plotting.bokeh.raster.HoverModel\",\"properties\":[{\"name\":\"xy\",\"kind\":\"Any\",\"default\":null},{\"name\":\"data\",\"kind\":\"Any\",\"default\":null}]}]}};\n",
       "  var render_items = [{\"docid\":\"438352a7-2ac1-49ce-9db2-e9a7038f29f6\",\"roots\":{\"851a6822-0a35-4ab0-a825-31e5dc420f75\":\"a8a3d628-c603-4c28-84d0-f6d7c25d890c\"},\"root_ids\":[\"851a6822-0a35-4ab0-a825-31e5dc420f75\"]}];\n",
       "  var docs = Object.values(docs_json)\n",
       "  if (!docs) {\n",
       "    return\n",
       "  }\n",
       "  const py_version = docs[0].version.replace('rc', '-rc.').replace('.dev', '-dev.')\n",
       "  async function embed_document(root) {\n",
       "    var Bokeh = get_bokeh(root)\n",
       "    await Bokeh.embed.embed_items_notebook(docs_json, render_items);\n",
       "    for (const render_item of render_items) {\n",
       "      for (const root_id of render_item.root_ids) {\n",
       "\tconst id_el = document.getElementById(root_id)\n",
       "\tif (id_el.children.length && id_el.children[0].hasAttribute('data-root-id')) {\n",
       "\t  const root_el = id_el.children[0]\n",
       "\t  root_el.id = root_el.id + '-rendered'\n",
       "\t  for (const child of root_el.children) {\n",
       "            // Ensure JupyterLab does not capture keyboard shortcuts\n",
       "            // see: https://jupyterlab.readthedocs.io/en/4.1.x/extension/notebook.html#keyboard-interaction-model\n",
       "\t    child.setAttribute('data-lm-suppress-shortcuts', 'true')\n",
       "\t  }\n",
       "\t}\n",
       "      }\n",
       "    }\n",
       "  }\n",
       "  function get_bokeh(root) {\n",
       "    if (root.Bokeh === undefined) {\n",
       "      return null\n",
       "    } else if (root.Bokeh.version !== py_version) {\n",
       "      if (root.Bokeh.versions === undefined || !root.Bokeh.versions.has(py_version)) {\n",
       "\treturn null\n",
       "      }\n",
       "      return root.Bokeh.versions.get(py_version);\n",
       "    } else if (root.Bokeh.version === py_version) {\n",
       "      return root.Bokeh\n",
       "    }\n",
       "    return null\n",
       "  }\n",
       "  function is_loaded(root) {\n",
       "    var Bokeh = get_bokeh(root)\n",
       "    return (Bokeh != null && Bokeh.Panel !== undefined)\n",
       "  }\n",
       "  if (is_loaded(root)) {\n",
       "    embed_document(root);\n",
       "  } else {\n",
       "    var attempts = 0;\n",
       "    var timer = setInterval(function(root) {\n",
       "      if (is_loaded(root)) {\n",
       "        clearInterval(timer);\n",
       "        embed_document(root);\n",
       "      } else if (document.readyState == \"complete\") {\n",
       "        attempts++;\n",
       "        if (attempts > 200) {\n",
       "          clearInterval(timer);\n",
       "\t  var Bokeh = get_bokeh(root)\n",
       "\t  if (Bokeh == null || Bokeh.Panel == null) {\n",
       "            console.warn(\"Panel: ERROR: Unable to run Panel code because Bokeh or Panel library is missing\");\n",
       "\t  } else {\n",
       "\t    console.warn(\"Panel: WARNING: Attempting to render but not all required libraries could be resolved.\")\n",
       "\t    embed_document(root)\n",
       "\t  }\n",
       "        }\n",
       "      }\n",
       "    }, 25, root)\n",
       "  }\n",
       "})(window);</script>"
      ]
     },
     "metadata": {
      "application/vnd.holoviews_exec.v0+json": {
       "id": "851a6822-0a35-4ab0-a825-31e5dc420f75"
      }
     },
     "output_type": "display_data"
    }
   ],
   "source": [
    "import boto3\n",
    "from datetime import datetime, timedelta\n",
    "import earthaccess\n",
    "import fsspec\n",
    "import hvplot.xarray\n",
    "import holoviews as hv\n",
    "from holoviews import opts\n",
    "import matplotlib.pyplot as plt\n",
    "import numpy as np\n",
    "import panel as pn\n",
    "\n",
    "import xarray as xr\n",
    "import zarr\n",
    "import icechunk\n",
    "from icechunk.credentials import s3_credentials\n",
    "\n",
    "import warnings\n",
    "warnings.filterwarnings(\"ignore\", category=UserWarning)\n",
    "\n",
    "from typing import Optional"
   ]
  },
  {
   "cell_type": "markdown",
   "id": "93ecf630-8b3c-42ba-90e1-54162b4c5488",
   "metadata": {},
   "source": [
    "## Step 1. Set zarr runtime configuration"
   ]
  },
  {
   "cell_type": "markdown",
   "id": "9635b270-cb10-4123-b6c3-4ef56a815cbb",
   "metadata": {},
   "source": [
    "Async and threading operations can be set via zarr.config. Please also see [zarr-python runtime configuration documentation](https://zarr.readthedocs.io/en/stable/user-guide/config.html).\n",
    "\n",
    "* `async.concurrency` controls how many chunks can be fetched asynchronously at once.\n",
    "* `threading.max_workers` determines how many threads handle the decompression or processing of those fetched chunks.\n",
    "\n",
    "The default setting for `threading.max_workers` is `None` so presumably this uses all threads available."
   ]
  },
  {
   "cell_type": "code",
   "execution_count": 2,
   "id": "bd1ff50f-5d28-4a1e-b652-ad96bd904b6b",
   "metadata": {},
   "outputs": [
    {
     "data": {
      "text/plain": [
       "<donfig.config_obj.ConfigSet at 0x7fbb37dfd590>"
      ]
     },
     "execution_count": 2,
     "metadata": {},
     "output_type": "execute_result"
    }
   ],
   "source": [
    "# concurrency=300 seems to be a sweeet spot for smaller EC2s. Fast open time of a few secconds for MUR.\n",
    "zarr.config.set({\n",
    "    'async': {'concurrency': 300, 'timeout': None},\n",
    "    'threading': {'max_workers': 4}\n",
    "})"
   ]
  },
  {
   "cell_type": "markdown",
   "id": "2fa87318-9298-4899-bd45-1a613db0a1d5",
   "metadata": {},
   "source": [
    "## Step 2. Set other variables"
   ]
  },
  {
   "cell_type": "code",
   "execution_count": 3,
   "id": "5005f0d1-ce80-4605-8b05-de4e6665ffb1",
   "metadata": {},
   "outputs": [],
   "source": [
    "bucket_name = 'nasa-eodc-public'\n",
    "store_name = \"MUR-JPL-L4-GLOB-v4.1-virtual-v1\"\n",
    "\n",
    "# Gulf of Tehuantepec, MX\n",
    "lat_min = 14.\n",
    "lat_max = 15.\n",
    "lon_min = -96.\n",
    "lon_max = -95.\n",
    "\n",
    "lat_range = (lat_min, lat_max)\n",
    "lon_range = (lon_min, lon_max)\n",
    "\n",
    "start_date = '2003-01-01'\n",
    "end_date = '2008-12-31'\n",
    "time_range =(start_date, end_date)\n",
    "\n",
    "lat_min = -90\n",
    "lon_min = -180\n",
    "resolution = 0.01\n",
    "ea_creds = None\n"
   ]
  },
  {
   "cell_type": "markdown",
   "id": "6fe5bbc5-17e7-4723-855f-52e34d0191d6",
   "metadata": {},
   "source": [
    "## Step 3. Fetch earthaccess credentials\n",
    "\n",
    "Note: You can skip this step if you have direct bucket access to `s3://podaac-ops-cumulus-protected/`."
   ]
  },
  {
   "cell_type": "code",
   "execution_count": 4,
   "id": "041b1a15-8ace-4913-a575-f36c4be33473",
   "metadata": {},
   "outputs": [
    {
     "name": "stdout",
     "output_type": "stream",
     "text": [
      "s3://nasa-eodc-public/MUR-JPL-L4-GLOB-v4.1-virtual-v1/\n"
     ]
    }
   ],
   "source": [
    "s3 = boto3.client(\"s3\")\n",
    "\n",
    "earthaccess.login()\n",
    "ea_creds = earthaccess.get_s3_credentials(daac='PODAAC')\n",
    "\n",
    "storage_path = \"s3://\" + bucket_name + \"/\" + store_name +\"/\"\n",
    "print(storage_path)\n"
   ]
  },
  {
   "cell_type": "markdown",
   "id": "fcd4addd-4767-4941-9958-2949318af065",
   "metadata": {},
   "source": [
    "## Step 4. Initialize the repo"
   ]
  },
  {
   "cell_type": "code",
   "execution_count": 5,
   "id": "a48282f6-d2ab-4515-baad-827e8a50186a",
   "metadata": {},
   "outputs": [],
   "source": [
    "# get_repo subroutine \n",
    "\n",
    "def get_repo(bucket_name: str, store_name: str, ea_creds: Optional[dict] = None):\n",
    "    storage = icechunk.s3_storage(\n",
    "        bucket=bucket_name,\n",
    "        prefix=f\"icechunk/{store_name}\",\n",
    "        anonymous=True\n",
    "    )\n",
    "\n",
    "    config = icechunk.RepositoryConfig.default()\n",
    "    #config.set_virtual_chunk_container(icechunk.VirtualChunkContainer(\"s3\", \"s3://\", icechunk.s3_store(region=\"us-west-2\")))\n",
    "    config.set_virtual_chunk_container(icechunk.VirtualChunkContainer(\"s3://nasa-eodc-public/\", icechunk.s3_store(region=\"us-west-2\")))\n",
    "\n",
    "    repo_config = dict(\n",
    "        storage=storage,\n",
    "        config=config,\n",
    "    )\n",
    "    if ea_creds:\n",
    "        earthdata_credentials = icechunk.containers_credentials(\n",
    "            {\"s3://nasa-eodc-public/\": icechunk.s3_credentials(\n",
    "                access_key_id=ea_creds['accessKeyId'],\n",
    "                secret_access_key=ea_creds['secretAccessKey'],\n",
    "                session_token=ea_creds['sessionToken'] )\n",
    "            }\n",
    "        )\n",
    "        repo_config['authorize_virtual_chunk_access'] = earthdata_credentials\n",
    "        #repo_config['virtual_chunk_credentials'] = earthdata_credentials\n",
    "\n",
    "    return icechunk.Repository.open(**repo_config)"
   ]
  },
  {
   "cell_type": "code",
   "execution_count": 6,
   "id": "83a60dc1-51b4-453b-89a9-43ae09cd3ef3",
   "metadata": {},
   "outputs": [
    {
     "name": "stdout",
     "output_type": "stream",
     "text": [
      "  \u001b[2m2025-09-23T19:32:21.489065Z\u001b[0m \u001b[33m WARN\u001b[0m \u001b[1;33micechunk::virtual_chunks\u001b[0m\u001b[33m: \u001b[33mInvalid virtual chunk container, ignoring it: relative URL without a base\u001b[0m\n",
      "    \u001b[2;3mat\u001b[0m icechunk/src/virtual_chunks.rs:272\n",
      "\n",
      "  \u001b[2m2025-09-23T19:32:21.489095Z\u001b[0m \u001b[33m WARN\u001b[0m \u001b[1;33micechunk::virtual_chunks\u001b[0m\u001b[33m: \u001b[33mInvalid virtual chunk container, ignoring it: relative URL without a base\u001b[0m\n",
      "    \u001b[2;3mat\u001b[0m icechunk/src/virtual_chunks.rs:272\n",
      "\n",
      "  \u001b[2m2025-09-23T19:32:21.489098Z\u001b[0m \u001b[33m WARN\u001b[0m \u001b[1;33micechunk::virtual_chunks\u001b[0m\u001b[33m: \u001b[33mInvalid virtual chunk container, ignoring it: relative URL without a base\u001b[0m\n",
      "    \u001b[2;3mat\u001b[0m icechunk/src/virtual_chunks.rs:272\n",
      "\n",
      "  \u001b[2m2025-09-23T19:32:21.489101Z\u001b[0m \u001b[33m WARN\u001b[0m \u001b[1;33micechunk::virtual_chunks\u001b[0m\u001b[33m: \u001b[33mInvalid virtual chunk container, ignoring it: relative URL without a base\u001b[0m\n",
      "    \u001b[2;3mat\u001b[0m icechunk/src/virtual_chunks.rs:272\n",
      "\n",
      "  \u001b[2m2025-09-23T19:32:21.489105Z\u001b[0m \u001b[33m WARN\u001b[0m \u001b[1;33micechunk::virtual_chunks\u001b[0m\u001b[33m: \u001b[33mInvalid virtual chunk container, ignoring it: Url prefix for s3:// containers must include a host\u001b[0m\n",
      "    \u001b[2;3mat\u001b[0m icechunk/src/virtual_chunks.rs:272\n",
      "\n"
     ]
    }
   ],
   "source": [
    "repo = get_repo(bucket_name=bucket_name, store_name=store_name, ea_creds=ea_creds)\n",
    "session = repo.readonly_session(branch=\"main\")"
   ]
  },
  {
   "cell_type": "markdown",
   "id": "84bf1bde-19b5-47d5-8754-5c735455045f",
   "metadata": {},
   "source": [
    "## Step 5 Option 1: Read and plot with `xarray`"
   ]
  },
  {
   "cell_type": "code",
   "execution_count": 7,
   "id": "215c53ae-5317-46bc-81b4-52eb1afb176d",
   "metadata": {},
   "outputs": [
    {
     "name": "stdout",
     "output_type": "stream",
     "text": [
      "CPU times: user 403 ms, sys: 28.2 ms, total: 431 ms\n",
      "Wall time: 517 ms\n"
     ]
    },
    {
     "ename": "IcechunkError",
     "evalue": "Failed to decode variable 'time':   x no virtual chunk container can handle the chunk location (s3://podaac-ops-cumulus-protected/MUR-JPL-L4-GLOB-v4.1/20020601090000-JPL-L4_GHRSST-SSTfnd-MUR-GLOB-v02.0-fv04.1.nc), edit the\n  | repository configuration adding a virtual chunk container for the chunk references, see https://icechunk.io/en/stable/virtual/\n  | \n  | context:\n  |    0: icechunk::store::get\n  |            with key=\"time/c/0\" byte_range=From(0)\n  |              at icechunk/src/store.rs:198\n  | \n  `-> no virtual chunk container can handle the chunk location (s3://podaac-ops-cumulus-protected/MUR-JPL-L4-GLOB-v4.1/20020601090000-JPL-L4_GHRSST-SSTfnd-MUR-GLOB-v02.0-fv04.1.nc), edit the\n      repository configuration adding a virtual chunk container for the chunk references, see https://icechunk.io/en/stable/virtual/\n",
     "output_type": "error",
     "traceback": [
      "\u001b[31m---------------------------------------------------------------------------\u001b[39m",
      "\u001b[31mIcechunkError\u001b[39m                             Traceback (most recent call last)",
      "\u001b[36mFile \u001b[39m\u001b[32m/srv/conda/envs/notebook/lib/python3.11/site-packages/xarray/conventions.py:412\u001b[39m, in \u001b[36mdecode_cf_variables\u001b[39m\u001b[34m(variables, attributes, concat_characters, mask_and_scale, decode_times, decode_coords, drop_variables, use_cftime, decode_timedelta)\u001b[39m\n\u001b[32m    411\u001b[39m \u001b[38;5;28;01mtry\u001b[39;00m:\n\u001b[32m--> \u001b[39m\u001b[32m412\u001b[39m     new_vars[k] = \u001b[43mdecode_cf_variable\u001b[49m\u001b[43m(\u001b[49m\n\u001b[32m    413\u001b[39m \u001b[43m        \u001b[49m\u001b[43mk\u001b[49m\u001b[43m,\u001b[49m\n\u001b[32m    414\u001b[39m \u001b[43m        \u001b[49m\u001b[43mv\u001b[49m\u001b[43m,\u001b[49m\n\u001b[32m    415\u001b[39m \u001b[43m        \u001b[49m\u001b[43mconcat_characters\u001b[49m\u001b[43m=\u001b[49m\u001b[43m_item_or_default\u001b[49m\u001b[43m(\u001b[49m\u001b[43mconcat_characters\u001b[49m\u001b[43m,\u001b[49m\u001b[43m \u001b[49m\u001b[43mk\u001b[49m\u001b[43m,\u001b[49m\u001b[43m \u001b[49m\u001b[38;5;28;43;01mTrue\u001b[39;49;00m\u001b[43m)\u001b[49m\u001b[43m,\u001b[49m\n\u001b[32m    416\u001b[39m \u001b[43m        \u001b[49m\u001b[43mmask_and_scale\u001b[49m\u001b[43m=\u001b[49m\u001b[43m_item_or_default\u001b[49m\u001b[43m(\u001b[49m\u001b[43mmask_and_scale\u001b[49m\u001b[43m,\u001b[49m\u001b[43m \u001b[49m\u001b[43mk\u001b[49m\u001b[43m,\u001b[49m\u001b[43m \u001b[49m\u001b[38;5;28;43;01mTrue\u001b[39;49;00m\u001b[43m)\u001b[49m\u001b[43m,\u001b[49m\n\u001b[32m    417\u001b[39m \u001b[43m        \u001b[49m\u001b[43mdecode_times\u001b[49m\u001b[43m=\u001b[49m\u001b[43mcast\u001b[49m\u001b[43m(\u001b[49m\n\u001b[32m    418\u001b[39m \u001b[43m            \u001b[49m\u001b[38;5;28;43mbool\u001b[39;49m\u001b[43m \u001b[49m\u001b[43m|\u001b[49m\u001b[43m \u001b[49m\u001b[43mCFDatetimeCoder\u001b[49m\u001b[43m,\u001b[49m\u001b[43m \u001b[49m\u001b[43m_item_or_default\u001b[49m\u001b[43m(\u001b[49m\u001b[43mdecode_times\u001b[49m\u001b[43m,\u001b[49m\u001b[43m \u001b[49m\u001b[43mk\u001b[49m\u001b[43m,\u001b[49m\u001b[43m \u001b[49m\u001b[38;5;28;43;01mTrue\u001b[39;49;00m\u001b[43m)\u001b[49m\n\u001b[32m    419\u001b[39m \u001b[43m        \u001b[49m\u001b[43m)\u001b[49m\u001b[43m,\u001b[49m\n\u001b[32m    420\u001b[39m \u001b[43m        \u001b[49m\u001b[43mstack_char_dim\u001b[49m\u001b[43m=\u001b[49m\u001b[43mstack_char_dim\u001b[49m\u001b[43m,\u001b[49m\n\u001b[32m    421\u001b[39m \u001b[43m        \u001b[49m\u001b[43muse_cftime\u001b[49m\u001b[43m=\u001b[49m\u001b[43m_item_or_default\u001b[49m\u001b[43m(\u001b[49m\u001b[43muse_cftime\u001b[49m\u001b[43m,\u001b[49m\u001b[43m \u001b[49m\u001b[43mk\u001b[49m\u001b[43m,\u001b[49m\u001b[43m \u001b[49m\u001b[38;5;28;43;01mNone\u001b[39;49;00m\u001b[43m)\u001b[49m\u001b[43m,\u001b[49m\n\u001b[32m    422\u001b[39m \u001b[43m        \u001b[49m\u001b[43mdecode_timedelta\u001b[49m\u001b[43m=\u001b[49m\u001b[43m_item_or_default\u001b[49m\u001b[43m(\u001b[49m\u001b[43mdecode_timedelta\u001b[49m\u001b[43m,\u001b[49m\u001b[43m \u001b[49m\u001b[43mk\u001b[49m\u001b[43m,\u001b[49m\u001b[43m \u001b[49m\u001b[38;5;28;43;01mNone\u001b[39;49;00m\u001b[43m)\u001b[49m\u001b[43m,\u001b[49m\n\u001b[32m    423\u001b[39m \u001b[43m    \u001b[49m\u001b[43m)\u001b[49m\n\u001b[32m    424\u001b[39m \u001b[38;5;28;01mexcept\u001b[39;00m \u001b[38;5;167;01mException\u001b[39;00m \u001b[38;5;28;01mas\u001b[39;00m e:\n",
      "\u001b[36mFile \u001b[39m\u001b[32m/srv/conda/envs/notebook/lib/python3.11/site-packages/xarray/conventions.py:239\u001b[39m, in \u001b[36mdecode_cf_variable\u001b[39m\u001b[34m(name, var, concat_characters, mask_and_scale, decode_times, decode_endianness, stack_char_dim, use_cftime, decode_timedelta)\u001b[39m\n\u001b[32m    230\u001b[39m         \u001b[38;5;28;01mraise\u001b[39;00m \u001b[38;5;167;01mTypeError\u001b[39;00m(\n\u001b[32m    231\u001b[39m             \u001b[33m\"\u001b[39m\u001b[33mUsage of \u001b[39m\u001b[33m'\u001b[39m\u001b[33muse_cftime\u001b[39m\u001b[33m'\u001b[39m\u001b[33m as a kwarg is not allowed \u001b[39m\u001b[33m\"\u001b[39m\n\u001b[32m    232\u001b[39m             \u001b[33m\"\u001b[39m\u001b[33mif a \u001b[39m\u001b[33m'\u001b[39m\u001b[33mCFDatetimeCoder\u001b[39m\u001b[33m'\u001b[39m\u001b[33m instance is passed to \u001b[39m\u001b[33m\"\u001b[39m\n\u001b[32m   (...)\u001b[39m\u001b[32m    237\u001b[39m             \u001b[33m\"\u001b[39m\u001b[33m    ds = xr.open_dataset(decode_times=time_coder)\u001b[39m\u001b[38;5;130;01m\\n\u001b[39;00m\u001b[33m\"\u001b[39m,\n\u001b[32m    238\u001b[39m         )\n\u001b[32m--> \u001b[39m\u001b[32m239\u001b[39m     var = \u001b[43mdecode_times\u001b[49m\u001b[43m.\u001b[49m\u001b[43mdecode\u001b[49m\u001b[43m(\u001b[49m\u001b[43mvar\u001b[49m\u001b[43m,\u001b[49m\u001b[43m \u001b[49m\u001b[43mname\u001b[49m\u001b[43m=\u001b[49m\u001b[43mname\u001b[49m\u001b[43m)\u001b[49m\n\u001b[32m    241\u001b[39m \u001b[38;5;28;01mif\u001b[39;00m decode_endianness \u001b[38;5;129;01mand\u001b[39;00m \u001b[38;5;129;01mnot\u001b[39;00m var.dtype.isnative:\n",
      "\u001b[36mFile \u001b[39m\u001b[32m/srv/conda/envs/notebook/lib/python3.11/site-packages/xarray/coding/times.py:1391\u001b[39m, in \u001b[36mCFDatetimeCoder.decode\u001b[39m\u001b[34m(self, variable, name)\u001b[39m\n\u001b[32m   1390\u001b[39m calendar = pop_to(attrs, encoding, \u001b[33m\"\u001b[39m\u001b[33mcalendar\u001b[39m\u001b[33m\"\u001b[39m)\n\u001b[32m-> \u001b[39m\u001b[32m1391\u001b[39m dtype = \u001b[43m_decode_cf_datetime_dtype\u001b[49m\u001b[43m(\u001b[49m\n\u001b[32m   1392\u001b[39m \u001b[43m    \u001b[49m\u001b[43mdata\u001b[49m\u001b[43m,\u001b[49m\u001b[43m \u001b[49m\u001b[43munits\u001b[49m\u001b[43m,\u001b[49m\u001b[43m \u001b[49m\u001b[43mcalendar\u001b[49m\u001b[43m,\u001b[49m\u001b[43m \u001b[49m\u001b[38;5;28;43mself\u001b[39;49m\u001b[43m.\u001b[49m\u001b[43muse_cftime\u001b[49m\u001b[43m,\u001b[49m\u001b[43m \u001b[49m\u001b[38;5;28;43mself\u001b[39;49m\u001b[43m.\u001b[49m\u001b[43mtime_unit\u001b[49m\n\u001b[32m   1393\u001b[39m \u001b[43m\u001b[49m\u001b[43m)\u001b[49m\n\u001b[32m   1394\u001b[39m transform = partial(\n\u001b[32m   1395\u001b[39m     decode_cf_datetime,\n\u001b[32m   1396\u001b[39m     units=units,\n\u001b[32m   (...)\u001b[39m\u001b[32m   1399\u001b[39m     time_unit=\u001b[38;5;28mself\u001b[39m.time_unit,\n\u001b[32m   1400\u001b[39m )\n",
      "\u001b[36mFile \u001b[39m\u001b[32m/srv/conda/envs/notebook/lib/python3.11/site-packages/xarray/coding/times.py:333\u001b[39m, in \u001b[36m_decode_cf_datetime_dtype\u001b[39m\u001b[34m(data, units, calendar, use_cftime, time_unit)\u001b[39m\n\u001b[32m    331\u001b[39m values = indexing.ImplicitToExplicitIndexingAdapter(indexing.as_indexable(data))\n\u001b[32m    332\u001b[39m example_value = np.concatenate(\n\u001b[32m--> \u001b[39m\u001b[32m333\u001b[39m     [to_numpy(\u001b[43mfirst_n_items\u001b[49m\u001b[43m(\u001b[49m\u001b[43mvalues\u001b[49m\u001b[43m,\u001b[49m\u001b[43m \u001b[49m\u001b[32;43m1\u001b[39;49m\u001b[43m)\u001b[49m), to_numpy(last_item(values))]\n\u001b[32m    334\u001b[39m )\n\u001b[32m    336\u001b[39m \u001b[38;5;28;01mtry\u001b[39;00m:\n",
      "\u001b[36mFile \u001b[39m\u001b[32m/srv/conda/envs/notebook/lib/python3.11/site-packages/xarray/core/formatting.py:104\u001b[39m, in \u001b[36mfirst_n_items\u001b[39m\u001b[34m(array, n_desired)\u001b[39m\n\u001b[32m    103\u001b[39m     array = array._data\n\u001b[32m--> \u001b[39m\u001b[32m104\u001b[39m \u001b[38;5;28;01mreturn\u001b[39;00m ravel(\u001b[43mto_duck_array\u001b[49m\u001b[43m(\u001b[49m\u001b[43marray\u001b[49m\u001b[43m)\u001b[49m)[:n_desired]\n",
      "\u001b[36mFile \u001b[39m\u001b[32m/srv/conda/envs/notebook/lib/python3.11/site-packages/xarray/namedarray/pycompat.py:143\u001b[39m, in \u001b[36mto_duck_array\u001b[39m\u001b[34m(data, **kwargs)\u001b[39m\n\u001b[32m    142\u001b[39m \u001b[38;5;28;01mif\u001b[39;00m \u001b[38;5;28misinstance\u001b[39m(data, ExplicitlyIndexed | ImplicitToExplicitIndexingAdapter):\n\u001b[32m--> \u001b[39m\u001b[32m143\u001b[39m     \u001b[38;5;28;01mreturn\u001b[39;00m \u001b[43mdata\u001b[49m\u001b[43m.\u001b[49m\u001b[43mget_duck_array\u001b[49m\u001b[43m(\u001b[49m\u001b[43m)\u001b[49m  \u001b[38;5;66;03m# type: ignore[no-untyped-call, no-any-return]\u001b[39;00m\n\u001b[32m    144\u001b[39m \u001b[38;5;28;01melif\u001b[39;00m is_duck_array(data):\n",
      "\u001b[36mFile \u001b[39m\u001b[32m/srv/conda/envs/notebook/lib/python3.11/site-packages/xarray/core/indexing.py:664\u001b[39m, in \u001b[36mImplicitToExplicitIndexingAdapter.get_duck_array\u001b[39m\u001b[34m(self)\u001b[39m\n\u001b[32m    663\u001b[39m \u001b[38;5;28;01mdef\u001b[39;00m\u001b[38;5;250m \u001b[39m\u001b[34mget_duck_array\u001b[39m(\u001b[38;5;28mself\u001b[39m):\n\u001b[32m--> \u001b[39m\u001b[32m664\u001b[39m     \u001b[38;5;28;01mreturn\u001b[39;00m \u001b[38;5;28;43mself\u001b[39;49m\u001b[43m.\u001b[49m\u001b[43marray\u001b[49m\u001b[43m.\u001b[49m\u001b[43mget_duck_array\u001b[49m\u001b[43m(\u001b[49m\u001b[43m)\u001b[49m\n",
      "\u001b[36mFile \u001b[39m\u001b[32m/srv/conda/envs/notebook/lib/python3.11/site-packages/xarray/core/indexing.py:737\u001b[39m, in \u001b[36mLazilyIndexedArray.get_duck_array\u001b[39m\u001b[34m(self)\u001b[39m\n\u001b[32m    736\u001b[39m \u001b[38;5;28;01mif\u001b[39;00m \u001b[38;5;28misinstance\u001b[39m(\u001b[38;5;28mself\u001b[39m.array, BackendArray):\n\u001b[32m--> \u001b[39m\u001b[32m737\u001b[39m     array = \u001b[38;5;28;43mself\u001b[39;49m\u001b[43m.\u001b[49m\u001b[43marray\u001b[49m\u001b[43m[\u001b[49m\u001b[38;5;28;43mself\u001b[39;49m\u001b[43m.\u001b[49m\u001b[43mkey\u001b[49m\u001b[43m]\u001b[49m\n\u001b[32m    738\u001b[39m \u001b[38;5;28;01melse\u001b[39;00m:\n",
      "\u001b[36mFile \u001b[39m\u001b[32m/srv/conda/envs/notebook/lib/python3.11/site-packages/xarray/backends/zarr.py:262\u001b[39m, in \u001b[36mZarrArrayWrapper.__getitem__\u001b[39m\u001b[34m(self, key)\u001b[39m\n\u001b[32m    261\u001b[39m     method = \u001b[38;5;28mself\u001b[39m._oindex\n\u001b[32m--> \u001b[39m\u001b[32m262\u001b[39m \u001b[38;5;28;01mreturn\u001b[39;00m \u001b[43mindexing\u001b[49m\u001b[43m.\u001b[49m\u001b[43mexplicit_indexing_adapter\u001b[49m\u001b[43m(\u001b[49m\n\u001b[32m    263\u001b[39m \u001b[43m    \u001b[49m\u001b[43mkey\u001b[49m\u001b[43m,\u001b[49m\u001b[43m \u001b[49m\u001b[43marray\u001b[49m\u001b[43m.\u001b[49m\u001b[43mshape\u001b[49m\u001b[43m,\u001b[49m\u001b[43m \u001b[49m\u001b[43mindexing\u001b[49m\u001b[43m.\u001b[49m\u001b[43mIndexingSupport\u001b[49m\u001b[43m.\u001b[49m\u001b[43mVECTORIZED\u001b[49m\u001b[43m,\u001b[49m\u001b[43m \u001b[49m\u001b[43mmethod\u001b[49m\n\u001b[32m    264\u001b[39m \u001b[43m\u001b[49m\u001b[43m)\u001b[49m\n",
      "\u001b[36mFile \u001b[39m\u001b[32m/srv/conda/envs/notebook/lib/python3.11/site-packages/xarray/core/indexing.py:1129\u001b[39m, in \u001b[36mexplicit_indexing_adapter\u001b[39m\u001b[34m(key, shape, indexing_support, raw_indexing_method)\u001b[39m\n\u001b[32m   1128\u001b[39m raw_key, numpy_indices = decompose_indexer(key, shape, indexing_support)\n\u001b[32m-> \u001b[39m\u001b[32m1129\u001b[39m result = \u001b[43mraw_indexing_method\u001b[49m\u001b[43m(\u001b[49m\u001b[43mraw_key\u001b[49m\u001b[43m.\u001b[49m\u001b[43mtuple\u001b[49m\u001b[43m)\u001b[49m\n\u001b[32m   1130\u001b[39m \u001b[38;5;28;01mif\u001b[39;00m numpy_indices.tuple:\n\u001b[32m   1131\u001b[39m     \u001b[38;5;66;03m# index the loaded duck array\u001b[39;00m\n",
      "\u001b[36mFile \u001b[39m\u001b[32m/srv/conda/envs/notebook/lib/python3.11/site-packages/xarray/backends/zarr.py:225\u001b[39m, in \u001b[36mZarrArrayWrapper._getitem\u001b[39m\u001b[34m(self, key)\u001b[39m\n\u001b[32m    224\u001b[39m \u001b[38;5;28;01mdef\u001b[39;00m\u001b[38;5;250m \u001b[39m\u001b[34m_getitem\u001b[39m(\u001b[38;5;28mself\u001b[39m, key):\n\u001b[32m--> \u001b[39m\u001b[32m225\u001b[39m     \u001b[38;5;28;01mreturn\u001b[39;00m \u001b[38;5;28;43mself\u001b[39;49m\u001b[43m.\u001b[49m\u001b[43m_array\u001b[49m\u001b[43m[\u001b[49m\u001b[43mkey\u001b[49m\u001b[43m]\u001b[49m\n",
      "\u001b[36mFile \u001b[39m\u001b[32m/srv/conda/envs/notebook/lib/python3.11/site-packages/zarr/core/array.py:2441\u001b[39m, in \u001b[36mArray.__getitem__\u001b[39m\u001b[34m(self, selection)\u001b[39m\n\u001b[32m   2440\u001b[39m \u001b[38;5;28;01melif\u001b[39;00m is_pure_orthogonal_indexing(pure_selection, \u001b[38;5;28mself\u001b[39m.ndim):\n\u001b[32m-> \u001b[39m\u001b[32m2441\u001b[39m     \u001b[38;5;28;01mreturn\u001b[39;00m \u001b[38;5;28;43mself\u001b[39;49m\u001b[43m.\u001b[49m\u001b[43mget_orthogonal_selection\u001b[49m\u001b[43m(\u001b[49m\u001b[43mpure_selection\u001b[49m\u001b[43m,\u001b[49m\u001b[43m \u001b[49m\u001b[43mfields\u001b[49m\u001b[43m=\u001b[49m\u001b[43mfields\u001b[49m\u001b[43m)\u001b[49m\n\u001b[32m   2442\u001b[39m \u001b[38;5;28;01melse\u001b[39;00m:\n",
      "\u001b[36mFile \u001b[39m\u001b[32m/srv/conda/envs/notebook/lib/python3.11/site-packages/zarr/_compat.py:43\u001b[39m, in \u001b[36m_deprecate_positional_args.<locals>._inner_deprecate_positional_args.<locals>.inner_f\u001b[39m\u001b[34m(*args, **kwargs)\u001b[39m\n\u001b[32m     42\u001b[39m \u001b[38;5;28;01mif\u001b[39;00m extra_args <= \u001b[32m0\u001b[39m:\n\u001b[32m---> \u001b[39m\u001b[32m43\u001b[39m     \u001b[38;5;28;01mreturn\u001b[39;00m \u001b[43mf\u001b[49m\u001b[43m(\u001b[49m\u001b[43m*\u001b[49m\u001b[43margs\u001b[49m\u001b[43m,\u001b[49m\u001b[43m \u001b[49m\u001b[43m*\u001b[49m\u001b[43m*\u001b[49m\u001b[43mkwargs\u001b[49m\u001b[43m)\u001b[49m\n\u001b[32m     45\u001b[39m \u001b[38;5;66;03m# extra_args > 0\u001b[39;00m\n",
      "\u001b[36mFile \u001b[39m\u001b[32m/srv/conda/envs/notebook/lib/python3.11/site-packages/zarr/core/array.py:2883\u001b[39m, in \u001b[36mArray.get_orthogonal_selection\u001b[39m\u001b[34m(self, selection, out, fields, prototype)\u001b[39m\n\u001b[32m   2882\u001b[39m indexer = OrthogonalIndexer(selection, \u001b[38;5;28mself\u001b[39m.shape, \u001b[38;5;28mself\u001b[39m.metadata.chunk_grid)\n\u001b[32m-> \u001b[39m\u001b[32m2883\u001b[39m \u001b[38;5;28;01mreturn\u001b[39;00m \u001b[43msync\u001b[49m\u001b[43m(\u001b[49m\n\u001b[32m   2884\u001b[39m \u001b[43m    \u001b[49m\u001b[38;5;28;43mself\u001b[39;49m\u001b[43m.\u001b[49m\u001b[43m_async_array\u001b[49m\u001b[43m.\u001b[49m\u001b[43m_get_selection\u001b[49m\u001b[43m(\u001b[49m\n\u001b[32m   2885\u001b[39m \u001b[43m        \u001b[49m\u001b[43mindexer\u001b[49m\u001b[43m=\u001b[49m\u001b[43mindexer\u001b[49m\u001b[43m,\u001b[49m\u001b[43m \u001b[49m\u001b[43mout\u001b[49m\u001b[43m=\u001b[49m\u001b[43mout\u001b[49m\u001b[43m,\u001b[49m\u001b[43m \u001b[49m\u001b[43mfields\u001b[49m\u001b[43m=\u001b[49m\u001b[43mfields\u001b[49m\u001b[43m,\u001b[49m\u001b[43m \u001b[49m\u001b[43mprototype\u001b[49m\u001b[43m=\u001b[49m\u001b[43mprototype\u001b[49m\n\u001b[32m   2886\u001b[39m \u001b[43m    \u001b[49m\u001b[43m)\u001b[49m\n\u001b[32m   2887\u001b[39m \u001b[43m\u001b[49m\u001b[43m)\u001b[49m\n",
      "\u001b[36mFile \u001b[39m\u001b[32m/srv/conda/envs/notebook/lib/python3.11/site-packages/zarr/core/sync.py:163\u001b[39m, in \u001b[36msync\u001b[39m\u001b[34m(coro, loop, timeout)\u001b[39m\n\u001b[32m    162\u001b[39m \u001b[38;5;28;01mif\u001b[39;00m \u001b[38;5;28misinstance\u001b[39m(return_result, \u001b[38;5;167;01mBaseException\u001b[39;00m):\n\u001b[32m--> \u001b[39m\u001b[32m163\u001b[39m     \u001b[38;5;28;01mraise\u001b[39;00m return_result\n\u001b[32m    164\u001b[39m \u001b[38;5;28;01melse\u001b[39;00m:\n",
      "\u001b[36mFile \u001b[39m\u001b[32m/srv/conda/envs/notebook/lib/python3.11/site-packages/zarr/core/sync.py:119\u001b[39m, in \u001b[36m_runner\u001b[39m\u001b[34m(coro)\u001b[39m\n\u001b[32m    118\u001b[39m \u001b[38;5;28;01mtry\u001b[39;00m:\n\u001b[32m--> \u001b[39m\u001b[32m119\u001b[39m     \u001b[38;5;28;01mreturn\u001b[39;00m \u001b[38;5;28;01mawait\u001b[39;00m coro\n\u001b[32m    120\u001b[39m \u001b[38;5;28;01mexcept\u001b[39;00m \u001b[38;5;167;01mException\u001b[39;00m \u001b[38;5;28;01mas\u001b[39;00m ex:\n",
      "\u001b[36mFile \u001b[39m\u001b[32m/srv/conda/envs/notebook/lib/python3.11/site-packages/zarr/core/array.py:1298\u001b[39m, in \u001b[36mAsyncArray._get_selection\u001b[39m\u001b[34m(self, indexer, prototype, out, fields)\u001b[39m\n\u001b[32m   1297\u001b[39m     \u001b[38;5;66;03m# reading chunks and decoding them\u001b[39;00m\n\u001b[32m-> \u001b[39m\u001b[32m1298\u001b[39m     \u001b[38;5;28;01mawait\u001b[39;00m \u001b[38;5;28mself\u001b[39m.codec_pipeline.read(\n\u001b[32m   1299\u001b[39m         [\n\u001b[32m   1300\u001b[39m             (\n\u001b[32m   1301\u001b[39m                 \u001b[38;5;28mself\u001b[39m.store_path / \u001b[38;5;28mself\u001b[39m.metadata.encode_chunk_key(chunk_coords),\n\u001b[32m   1302\u001b[39m                 \u001b[38;5;28mself\u001b[39m.metadata.get_chunk_spec(chunk_coords, _config, prototype=prototype),\n\u001b[32m   1303\u001b[39m                 chunk_selection,\n\u001b[32m   1304\u001b[39m                 out_selection,\n\u001b[32m   1305\u001b[39m                 is_complete_chunk,\n\u001b[32m   1306\u001b[39m             )\n\u001b[32m   1307\u001b[39m             \u001b[38;5;28;01mfor\u001b[39;00m chunk_coords, chunk_selection, out_selection, is_complete_chunk \u001b[38;5;129;01min\u001b[39;00m indexer\n\u001b[32m   1308\u001b[39m         ],\n\u001b[32m   1309\u001b[39m         out_buffer,\n\u001b[32m   1310\u001b[39m         drop_axes=indexer.drop_axes,\n\u001b[32m   1311\u001b[39m     )\n\u001b[32m   1312\u001b[39m \u001b[38;5;28;01mif\u001b[39;00m \u001b[38;5;28misinstance\u001b[39m(indexer, BasicIndexer) \u001b[38;5;129;01mand\u001b[39;00m indexer.shape == ():\n",
      "\u001b[36mFile \u001b[39m\u001b[32m/srv/conda/envs/notebook/lib/python3.11/site-packages/zarr/core/codec_pipeline.py:464\u001b[39m, in \u001b[36mBatchedCodecPipeline.read\u001b[39m\u001b[34m(self, batch_info, out, drop_axes)\u001b[39m\n\u001b[32m    458\u001b[39m \u001b[38;5;28;01masync\u001b[39;00m \u001b[38;5;28;01mdef\u001b[39;00m\u001b[38;5;250m \u001b[39m\u001b[34mread\u001b[39m(\n\u001b[32m    459\u001b[39m     \u001b[38;5;28mself\u001b[39m,\n\u001b[32m    460\u001b[39m     batch_info: Iterable[\u001b[38;5;28mtuple\u001b[39m[ByteGetter, ArraySpec, SelectorTuple, SelectorTuple, \u001b[38;5;28mbool\u001b[39m]],\n\u001b[32m    461\u001b[39m     out: NDBuffer,\n\u001b[32m    462\u001b[39m     drop_axes: \u001b[38;5;28mtuple\u001b[39m[\u001b[38;5;28mint\u001b[39m, ...] = (),\n\u001b[32m    463\u001b[39m ) -> \u001b[38;5;28;01mNone\u001b[39;00m:\n\u001b[32m--> \u001b[39m\u001b[32m464\u001b[39m     \u001b[38;5;28;01mawait\u001b[39;00m concurrent_map(\n\u001b[32m    465\u001b[39m         [\n\u001b[32m    466\u001b[39m             (single_batch_info, out, drop_axes)\n\u001b[32m    467\u001b[39m             \u001b[38;5;28;01mfor\u001b[39;00m single_batch_info \u001b[38;5;129;01min\u001b[39;00m batched(batch_info, \u001b[38;5;28mself\u001b[39m.batch_size)\n\u001b[32m    468\u001b[39m         ],\n\u001b[32m    469\u001b[39m         \u001b[38;5;28mself\u001b[39m.read_batch,\n\u001b[32m    470\u001b[39m         config.get(\u001b[33m\"\u001b[39m\u001b[33masync.concurrency\u001b[39m\u001b[33m\"\u001b[39m),\n\u001b[32m    471\u001b[39m     )\n",
      "\u001b[36mFile \u001b[39m\u001b[32m/srv/conda/envs/notebook/lib/python3.11/site-packages/zarr/core/common.py:69\u001b[39m, in \u001b[36mconcurrent_map\u001b[39m\u001b[34m(items, func, limit)\u001b[39m\n\u001b[32m     67\u001b[39m         \u001b[38;5;28;01mreturn\u001b[39;00m \u001b[38;5;28;01mawait\u001b[39;00m func(*item)\n\u001b[32m---> \u001b[39m\u001b[32m69\u001b[39m \u001b[38;5;28;01mreturn\u001b[39;00m \u001b[38;5;28;01mawait\u001b[39;00m asyncio.gather(*[asyncio.ensure_future(run(item)) \u001b[38;5;28;01mfor\u001b[39;00m item \u001b[38;5;129;01min\u001b[39;00m items])\n",
      "\u001b[36mFile \u001b[39m\u001b[32m/srv/conda/envs/notebook/lib/python3.11/site-packages/zarr/core/common.py:67\u001b[39m, in \u001b[36mconcurrent_map.<locals>.run\u001b[39m\u001b[34m(item)\u001b[39m\n\u001b[32m     66\u001b[39m \u001b[38;5;28;01masync\u001b[39;00m \u001b[38;5;28;01mwith\u001b[39;00m sem:\n\u001b[32m---> \u001b[39m\u001b[32m67\u001b[39m     \u001b[38;5;28;01mreturn\u001b[39;00m \u001b[38;5;28;01mawait\u001b[39;00m func(*item)\n",
      "\u001b[36mFile \u001b[39m\u001b[32m/srv/conda/envs/notebook/lib/python3.11/site-packages/zarr/core/codec_pipeline.py:265\u001b[39m, in \u001b[36mBatchedCodecPipeline.read_batch\u001b[39m\u001b[34m(self, batch_info, out, drop_axes)\u001b[39m\n\u001b[32m    264\u001b[39m \u001b[38;5;28;01melse\u001b[39;00m:\n\u001b[32m--> \u001b[39m\u001b[32m265\u001b[39m     chunk_bytes_batch = \u001b[38;5;28;01mawait\u001b[39;00m concurrent_map(\n\u001b[32m    266\u001b[39m         [(byte_getter, array_spec.prototype) \u001b[38;5;28;01mfor\u001b[39;00m byte_getter, array_spec, *_ \u001b[38;5;129;01min\u001b[39;00m batch_info],\n\u001b[32m    267\u001b[39m         \u001b[38;5;28;01mlambda\u001b[39;00m byte_getter, prototype: byte_getter.get(prototype),\n\u001b[32m    268\u001b[39m         config.get(\u001b[33m\"\u001b[39m\u001b[33masync.concurrency\u001b[39m\u001b[33m\"\u001b[39m),\n\u001b[32m    269\u001b[39m     )\n\u001b[32m    270\u001b[39m     chunk_array_batch = \u001b[38;5;28;01mawait\u001b[39;00m \u001b[38;5;28mself\u001b[39m.decode_batch(\n\u001b[32m    271\u001b[39m         [\n\u001b[32m    272\u001b[39m             (chunk_bytes, chunk_spec)\n\u001b[32m   (...)\u001b[39m\u001b[32m    276\u001b[39m         ],\n\u001b[32m    277\u001b[39m     )\n",
      "\u001b[36mFile \u001b[39m\u001b[32m/srv/conda/envs/notebook/lib/python3.11/site-packages/zarr/core/common.py:69\u001b[39m, in \u001b[36mconcurrent_map\u001b[39m\u001b[34m(items, func, limit)\u001b[39m\n\u001b[32m     67\u001b[39m         \u001b[38;5;28;01mreturn\u001b[39;00m \u001b[38;5;28;01mawait\u001b[39;00m func(*item)\n\u001b[32m---> \u001b[39m\u001b[32m69\u001b[39m \u001b[38;5;28;01mreturn\u001b[39;00m \u001b[38;5;28;01mawait\u001b[39;00m asyncio.gather(*[asyncio.ensure_future(run(item)) \u001b[38;5;28;01mfor\u001b[39;00m item \u001b[38;5;129;01min\u001b[39;00m items])\n",
      "\u001b[36mFile \u001b[39m\u001b[32m/srv/conda/envs/notebook/lib/python3.11/site-packages/zarr/core/common.py:67\u001b[39m, in \u001b[36mconcurrent_map.<locals>.run\u001b[39m\u001b[34m(item)\u001b[39m\n\u001b[32m     66\u001b[39m \u001b[38;5;28;01masync\u001b[39;00m \u001b[38;5;28;01mwith\u001b[39;00m sem:\n\u001b[32m---> \u001b[39m\u001b[32m67\u001b[39m     \u001b[38;5;28;01mreturn\u001b[39;00m \u001b[38;5;28;01mawait\u001b[39;00m func(*item)\n",
      "\u001b[36mFile \u001b[39m\u001b[32m/srv/conda/envs/notebook/lib/python3.11/site-packages/zarr/storage/_common.py:124\u001b[39m, in \u001b[36mStorePath.get\u001b[39m\u001b[34m(self, prototype, byte_range)\u001b[39m\n\u001b[32m    123\u001b[39m     prototype = default_buffer_prototype()\n\u001b[32m--> \u001b[39m\u001b[32m124\u001b[39m \u001b[38;5;28;01mreturn\u001b[39;00m \u001b[38;5;28;01mawait\u001b[39;00m \u001b[38;5;28mself\u001b[39m.store.get(\u001b[38;5;28mself\u001b[39m.path, prototype=prototype, byte_range=byte_range)\n",
      "\u001b[36mFile \u001b[39m\u001b[32m/srv/conda/envs/notebook/lib/python3.11/site-packages/icechunk/store.py:162\u001b[39m, in \u001b[36mIcechunkStore.get\u001b[39m\u001b[34m(self, key, prototype, byte_range)\u001b[39m\n\u001b[32m    161\u001b[39m \u001b[38;5;28;01mtry\u001b[39;00m:\n\u001b[32m--> \u001b[39m\u001b[32m162\u001b[39m     result = \u001b[38;5;28;01mawait\u001b[39;00m \u001b[38;5;28mself\u001b[39m._store.get(key, _byte_request_to_tuple(byte_range))\n\u001b[32m    163\u001b[39m \u001b[38;5;28;01mexcept\u001b[39;00m \u001b[38;5;167;01mKeyError\u001b[39;00m \u001b[38;5;28;01mas\u001b[39;00m _e:\n\u001b[32m    164\u001b[39m     \u001b[38;5;66;03m# Zarr python expects None to be returned if the key does not exist\u001b[39;00m\n\u001b[32m    165\u001b[39m     \u001b[38;5;66;03m# but an IcechunkStore returns an error if the key does not exist\u001b[39;00m\n",
      "\u001b[31mIcechunkError\u001b[39m:   x no virtual chunk container can handle the chunk location (s3://podaac-ops-cumulus-protected/MUR-JPL-L4-GLOB-v4.1/20020601090000-JPL-L4_GHRSST-SSTfnd-MUR-GLOB-v02.0-fv04.1.nc), edit the\n  | repository configuration adding a virtual chunk container for the chunk references, see https://icechunk.io/en/stable/virtual/\n  | \n  | context:\n  |    0: icechunk::store::get\n  |            with key=\"time/c/0\" byte_range=From(0)\n  |              at icechunk/src/store.rs:198\n  | \n  `-> no virtual chunk container can handle the chunk location (s3://podaac-ops-cumulus-protected/MUR-JPL-L4-GLOB-v4.1/20020601090000-JPL-L4_GHRSST-SSTfnd-MUR-GLOB-v02.0-fv04.1.nc), edit the\n      repository configuration adding a virtual chunk container for the chunk references, see https://icechunk.io/en/stable/virtual/\n",
      "\nThe above exception was the direct cause of the following exception:\n",
      "\u001b[31mIcechunkError\u001b[39m                             Traceback (most recent call last)",
      "\u001b[36mCell\u001b[39m\u001b[36m \u001b[39m\u001b[32mIn[7]\u001b[39m\u001b[32m, line 1\u001b[39m\n\u001b[32m----> \u001b[39m\u001b[32m1\u001b[39m \u001b[43mget_ipython\u001b[49m\u001b[43m(\u001b[49m\u001b[43m)\u001b[49m\u001b[43m.\u001b[49m\u001b[43mrun_cell_magic\u001b[49m\u001b[43m(\u001b[49m\u001b[33;43m'\u001b[39;49m\u001b[33;43mtime\u001b[39;49m\u001b[33;43m'\u001b[39;49m\u001b[43m,\u001b[49m\u001b[43m \u001b[49m\u001b[33;43m'\u001b[39;49m\u001b[33;43m'\u001b[39;49m\u001b[43m,\u001b[49m\u001b[43m \u001b[49m\u001b[33;43m'\u001b[39;49m\u001b[33;43mmur_ds = xr.open_zarr(session.store, consolidated=False, zarr_format=3)\u001b[39;49m\u001b[38;5;130;43;01m\\n\u001b[39;49;00m\u001b[33;43m'\u001b[39;49m\u001b[43m)\u001b[49m\n",
      "\u001b[36mFile \u001b[39m\u001b[32m/srv/conda/envs/notebook/lib/python3.11/site-packages/IPython/core/interactiveshell.py:2565\u001b[39m, in \u001b[36mInteractiveShell.run_cell_magic\u001b[39m\u001b[34m(self, magic_name, line, cell)\u001b[39m\n\u001b[32m   2563\u001b[39m \u001b[38;5;28;01mwith\u001b[39;00m \u001b[38;5;28mself\u001b[39m.builtin_trap:\n\u001b[32m   2564\u001b[39m     args = (magic_arg_s, cell)\n\u001b[32m-> \u001b[39m\u001b[32m2565\u001b[39m     result = \u001b[43mfn\u001b[49m\u001b[43m(\u001b[49m\u001b[43m*\u001b[49m\u001b[43margs\u001b[49m\u001b[43m,\u001b[49m\u001b[43m \u001b[49m\u001b[43m*\u001b[49m\u001b[43m*\u001b[49m\u001b[43mkwargs\u001b[49m\u001b[43m)\u001b[49m\n\u001b[32m   2567\u001b[39m \u001b[38;5;66;03m# The code below prevents the output from being displayed\u001b[39;00m\n\u001b[32m   2568\u001b[39m \u001b[38;5;66;03m# when using magics with decorator @output_can_be_silenced\u001b[39;00m\n\u001b[32m   2569\u001b[39m \u001b[38;5;66;03m# when the last Python token in the expression is a ';'.\u001b[39;00m\n\u001b[32m   2570\u001b[39m \u001b[38;5;28;01mif\u001b[39;00m \u001b[38;5;28mgetattr\u001b[39m(fn, magic.MAGIC_OUTPUT_CAN_BE_SILENCED, \u001b[38;5;28;01mFalse\u001b[39;00m):\n",
      "\u001b[36mFile \u001b[39m\u001b[32m/srv/conda/envs/notebook/lib/python3.11/site-packages/IPython/core/magics/execution.py:1470\u001b[39m, in \u001b[36mExecutionMagics.time\u001b[39m\u001b[34m(self, line, cell, local_ns)\u001b[39m\n\u001b[32m   1468\u001b[39m \u001b[38;5;28;01mif\u001b[39;00m interrupt_occured:\n\u001b[32m   1469\u001b[39m     \u001b[38;5;28;01mif\u001b[39;00m exit_on_interrupt \u001b[38;5;129;01mand\u001b[39;00m captured_exception:\n\u001b[32m-> \u001b[39m\u001b[32m1470\u001b[39m         \u001b[38;5;28;01mraise\u001b[39;00m captured_exception\n\u001b[32m   1471\u001b[39m     \u001b[38;5;28;01mreturn\u001b[39;00m\n\u001b[32m   1472\u001b[39m \u001b[38;5;28;01mreturn\u001b[39;00m out\n",
      "\u001b[36mFile \u001b[39m\u001b[32m/srv/conda/envs/notebook/lib/python3.11/site-packages/IPython/core/magics/execution.py:1434\u001b[39m, in \u001b[36mExecutionMagics.time\u001b[39m\u001b[34m(self, line, cell, local_ns)\u001b[39m\n\u001b[32m   1432\u001b[39m st = clock2()\n\u001b[32m   1433\u001b[39m \u001b[38;5;28;01mtry\u001b[39;00m:\n\u001b[32m-> \u001b[39m\u001b[32m1434\u001b[39m     \u001b[43mexec\u001b[49m\u001b[43m(\u001b[49m\u001b[43mcode\u001b[49m\u001b[43m,\u001b[49m\u001b[43m \u001b[49m\u001b[43mglob\u001b[49m\u001b[43m,\u001b[49m\u001b[43m \u001b[49m\u001b[43mlocal_ns\u001b[49m\u001b[43m)\u001b[49m\n\u001b[32m   1435\u001b[39m     out = \u001b[38;5;28;01mNone\u001b[39;00m\n\u001b[32m   1436\u001b[39m     \u001b[38;5;66;03m# multi-line %%time case\u001b[39;00m\n",
      "\u001b[36mFile \u001b[39m\u001b[32m<timed exec>:1\u001b[39m\n",
      "\u001b[36mFile \u001b[39m\u001b[32m/srv/conda/envs/notebook/lib/python3.11/site-packages/xarray/backends/zarr.py:1581\u001b[39m, in \u001b[36mopen_zarr\u001b[39m\u001b[34m(store, group, synchronizer, chunks, decode_cf, mask_and_scale, decode_times, concat_characters, decode_coords, drop_variables, consolidated, overwrite_encoded_chunks, chunk_store, storage_options, decode_timedelta, use_cftime, zarr_version, zarr_format, use_zarr_fill_value_as_mask, chunked_array_type, from_array_kwargs, create_default_indexes, **kwargs)\u001b[39m\n\u001b[32m   1567\u001b[39m     \u001b[38;5;28;01mraise\u001b[39;00m \u001b[38;5;167;01mTypeError\u001b[39;00m(\n\u001b[32m   1568\u001b[39m         \u001b[33m\"\u001b[39m\u001b[33mopen_zarr() got unexpected keyword arguments \u001b[39m\u001b[33m\"\u001b[39m + \u001b[33m\"\u001b[39m\u001b[33m,\u001b[39m\u001b[33m\"\u001b[39m.join(kwargs.keys())\n\u001b[32m   1569\u001b[39m     )\n\u001b[32m   1571\u001b[39m backend_kwargs = {\n\u001b[32m   1572\u001b[39m     \u001b[33m\"\u001b[39m\u001b[33msynchronizer\u001b[39m\u001b[33m\"\u001b[39m: synchronizer,\n\u001b[32m   1573\u001b[39m     \u001b[33m\"\u001b[39m\u001b[33mconsolidated\u001b[39m\u001b[33m\"\u001b[39m: consolidated,\n\u001b[32m   (...)\u001b[39m\u001b[32m   1578\u001b[39m     \u001b[33m\"\u001b[39m\u001b[33mzarr_format\u001b[39m\u001b[33m\"\u001b[39m: zarr_format,\n\u001b[32m   1579\u001b[39m }\n\u001b[32m-> \u001b[39m\u001b[32m1581\u001b[39m ds = \u001b[43mopen_dataset\u001b[49m\u001b[43m(\u001b[49m\n\u001b[32m   1582\u001b[39m \u001b[43m    \u001b[49m\u001b[43mfilename_or_obj\u001b[49m\u001b[43m=\u001b[49m\u001b[43mstore\u001b[49m\u001b[43m,\u001b[49m\n\u001b[32m   1583\u001b[39m \u001b[43m    \u001b[49m\u001b[43mgroup\u001b[49m\u001b[43m=\u001b[49m\u001b[43mgroup\u001b[49m\u001b[43m,\u001b[49m\n\u001b[32m   1584\u001b[39m \u001b[43m    \u001b[49m\u001b[43mdecode_cf\u001b[49m\u001b[43m=\u001b[49m\u001b[43mdecode_cf\u001b[49m\u001b[43m,\u001b[49m\n\u001b[32m   1585\u001b[39m \u001b[43m    \u001b[49m\u001b[43mmask_and_scale\u001b[49m\u001b[43m=\u001b[49m\u001b[43mmask_and_scale\u001b[49m\u001b[43m,\u001b[49m\n\u001b[32m   1586\u001b[39m \u001b[43m    \u001b[49m\u001b[43mdecode_times\u001b[49m\u001b[43m=\u001b[49m\u001b[43mdecode_times\u001b[49m\u001b[43m,\u001b[49m\n\u001b[32m   1587\u001b[39m \u001b[43m    \u001b[49m\u001b[43mconcat_characters\u001b[49m\u001b[43m=\u001b[49m\u001b[43mconcat_characters\u001b[49m\u001b[43m,\u001b[49m\n\u001b[32m   1588\u001b[39m \u001b[43m    \u001b[49m\u001b[43mdecode_coords\u001b[49m\u001b[43m=\u001b[49m\u001b[43mdecode_coords\u001b[49m\u001b[43m,\u001b[49m\n\u001b[32m   1589\u001b[39m \u001b[43m    \u001b[49m\u001b[43mengine\u001b[49m\u001b[43m=\u001b[49m\u001b[33;43m\"\u001b[39;49m\u001b[33;43mzarr\u001b[39;49m\u001b[33;43m\"\u001b[39;49m\u001b[43m,\u001b[49m\n\u001b[32m   1590\u001b[39m \u001b[43m    \u001b[49m\u001b[43mchunks\u001b[49m\u001b[43m=\u001b[49m\u001b[43mchunks\u001b[49m\u001b[43m,\u001b[49m\n\u001b[32m   1591\u001b[39m \u001b[43m    \u001b[49m\u001b[43mdrop_variables\u001b[49m\u001b[43m=\u001b[49m\u001b[43mdrop_variables\u001b[49m\u001b[43m,\u001b[49m\n\u001b[32m   1592\u001b[39m \u001b[43m    \u001b[49m\u001b[43mcreate_default_indexes\u001b[49m\u001b[43m=\u001b[49m\u001b[43mcreate_default_indexes\u001b[49m\u001b[43m,\u001b[49m\n\u001b[32m   1593\u001b[39m \u001b[43m    \u001b[49m\u001b[43mchunked_array_type\u001b[49m\u001b[43m=\u001b[49m\u001b[43mchunked_array_type\u001b[49m\u001b[43m,\u001b[49m\n\u001b[32m   1594\u001b[39m \u001b[43m    \u001b[49m\u001b[43mfrom_array_kwargs\u001b[49m\u001b[43m=\u001b[49m\u001b[43mfrom_array_kwargs\u001b[49m\u001b[43m,\u001b[49m\n\u001b[32m   1595\u001b[39m \u001b[43m    \u001b[49m\u001b[43mbackend_kwargs\u001b[49m\u001b[43m=\u001b[49m\u001b[43mbackend_kwargs\u001b[49m\u001b[43m,\u001b[49m\n\u001b[32m   1596\u001b[39m \u001b[43m    \u001b[49m\u001b[43mdecode_timedelta\u001b[49m\u001b[43m=\u001b[49m\u001b[43mdecode_timedelta\u001b[49m\u001b[43m,\u001b[49m\n\u001b[32m   1597\u001b[39m \u001b[43m    \u001b[49m\u001b[43muse_cftime\u001b[49m\u001b[43m=\u001b[49m\u001b[43muse_cftime\u001b[49m\u001b[43m,\u001b[49m\n\u001b[32m   1598\u001b[39m \u001b[43m    \u001b[49m\u001b[43mzarr_version\u001b[49m\u001b[43m=\u001b[49m\u001b[43mzarr_version\u001b[49m\u001b[43m,\u001b[49m\n\u001b[32m   1599\u001b[39m \u001b[43m    \u001b[49m\u001b[43muse_zarr_fill_value_as_mask\u001b[49m\u001b[43m=\u001b[49m\u001b[43muse_zarr_fill_value_as_mask\u001b[49m\u001b[43m,\u001b[49m\n\u001b[32m   1600\u001b[39m \u001b[43m\u001b[49m\u001b[43m)\u001b[49m\n\u001b[32m   1601\u001b[39m \u001b[38;5;28;01mreturn\u001b[39;00m ds\n",
      "\u001b[36mFile \u001b[39m\u001b[32m/srv/conda/envs/notebook/lib/python3.11/site-packages/xarray/backends/api.py:760\u001b[39m, in \u001b[36mopen_dataset\u001b[39m\u001b[34m(filename_or_obj, engine, chunks, cache, decode_cf, mask_and_scale, decode_times, decode_timedelta, use_cftime, concat_characters, decode_coords, drop_variables, create_default_indexes, inline_array, chunked_array_type, from_array_kwargs, backend_kwargs, **kwargs)\u001b[39m\n\u001b[32m    748\u001b[39m decoders = _resolve_decoders_kwargs(\n\u001b[32m    749\u001b[39m     decode_cf,\n\u001b[32m    750\u001b[39m     open_backend_dataset_parameters=backend.open_dataset_parameters,\n\u001b[32m   (...)\u001b[39m\u001b[32m    756\u001b[39m     decode_coords=decode_coords,\n\u001b[32m    757\u001b[39m )\n\u001b[32m    759\u001b[39m overwrite_encoded_chunks = kwargs.pop(\u001b[33m\"\u001b[39m\u001b[33moverwrite_encoded_chunks\u001b[39m\u001b[33m\"\u001b[39m, \u001b[38;5;28;01mNone\u001b[39;00m)\n\u001b[32m--> \u001b[39m\u001b[32m760\u001b[39m backend_ds = \u001b[43mbackend\u001b[49m\u001b[43m.\u001b[49m\u001b[43mopen_dataset\u001b[49m\u001b[43m(\u001b[49m\n\u001b[32m    761\u001b[39m \u001b[43m    \u001b[49m\u001b[43mfilename_or_obj\u001b[49m\u001b[43m,\u001b[49m\n\u001b[32m    762\u001b[39m \u001b[43m    \u001b[49m\u001b[43mdrop_variables\u001b[49m\u001b[43m=\u001b[49m\u001b[43mdrop_variables\u001b[49m\u001b[43m,\u001b[49m\n\u001b[32m    763\u001b[39m \u001b[43m    \u001b[49m\u001b[43m*\u001b[49m\u001b[43m*\u001b[49m\u001b[43mdecoders\u001b[49m\u001b[43m,\u001b[49m\n\u001b[32m    764\u001b[39m \u001b[43m    \u001b[49m\u001b[43m*\u001b[49m\u001b[43m*\u001b[49m\u001b[43mkwargs\u001b[49m\u001b[43m,\u001b[49m\n\u001b[32m    765\u001b[39m \u001b[43m\u001b[49m\u001b[43m)\u001b[49m\n\u001b[32m    766\u001b[39m ds = _dataset_from_backend_dataset(\n\u001b[32m    767\u001b[39m     backend_ds,\n\u001b[32m    768\u001b[39m     filename_or_obj,\n\u001b[32m   (...)\u001b[39m\u001b[32m    779\u001b[39m     **kwargs,\n\u001b[32m    780\u001b[39m )\n\u001b[32m    781\u001b[39m \u001b[38;5;28;01mreturn\u001b[39;00m ds\n",
      "\u001b[36mFile \u001b[39m\u001b[32m/srv/conda/envs/notebook/lib/python3.11/site-packages/xarray/backends/zarr.py:1671\u001b[39m, in \u001b[36mZarrBackendEntrypoint.open_dataset\u001b[39m\u001b[34m(self, filename_or_obj, mask_and_scale, decode_times, concat_characters, decode_coords, drop_variables, use_cftime, decode_timedelta, group, mode, synchronizer, consolidated, chunk_store, storage_options, zarr_version, zarr_format, store, engine, use_zarr_fill_value_as_mask, cache_members)\u001b[39m\n\u001b[32m   1669\u001b[39m store_entrypoint = StoreBackendEntrypoint()\n\u001b[32m   1670\u001b[39m \u001b[38;5;28;01mwith\u001b[39;00m close_on_error(store):\n\u001b[32m-> \u001b[39m\u001b[32m1671\u001b[39m     ds = \u001b[43mstore_entrypoint\u001b[49m\u001b[43m.\u001b[49m\u001b[43mopen_dataset\u001b[49m\u001b[43m(\u001b[49m\n\u001b[32m   1672\u001b[39m \u001b[43m        \u001b[49m\u001b[43mstore\u001b[49m\u001b[43m,\u001b[49m\n\u001b[32m   1673\u001b[39m \u001b[43m        \u001b[49m\u001b[43mmask_and_scale\u001b[49m\u001b[43m=\u001b[49m\u001b[43mmask_and_scale\u001b[49m\u001b[43m,\u001b[49m\n\u001b[32m   1674\u001b[39m \u001b[43m        \u001b[49m\u001b[43mdecode_times\u001b[49m\u001b[43m=\u001b[49m\u001b[43mdecode_times\u001b[49m\u001b[43m,\u001b[49m\n\u001b[32m   1675\u001b[39m \u001b[43m        \u001b[49m\u001b[43mconcat_characters\u001b[49m\u001b[43m=\u001b[49m\u001b[43mconcat_characters\u001b[49m\u001b[43m,\u001b[49m\n\u001b[32m   1676\u001b[39m \u001b[43m        \u001b[49m\u001b[43mdecode_coords\u001b[49m\u001b[43m=\u001b[49m\u001b[43mdecode_coords\u001b[49m\u001b[43m,\u001b[49m\n\u001b[32m   1677\u001b[39m \u001b[43m        \u001b[49m\u001b[43mdrop_variables\u001b[49m\u001b[43m=\u001b[49m\u001b[43mdrop_variables\u001b[49m\u001b[43m,\u001b[49m\n\u001b[32m   1678\u001b[39m \u001b[43m        \u001b[49m\u001b[43muse_cftime\u001b[49m\u001b[43m=\u001b[49m\u001b[43muse_cftime\u001b[49m\u001b[43m,\u001b[49m\n\u001b[32m   1679\u001b[39m \u001b[43m        \u001b[49m\u001b[43mdecode_timedelta\u001b[49m\u001b[43m=\u001b[49m\u001b[43mdecode_timedelta\u001b[49m\u001b[43m,\u001b[49m\n\u001b[32m   1680\u001b[39m \u001b[43m    \u001b[49m\u001b[43m)\u001b[49m\n\u001b[32m   1681\u001b[39m \u001b[38;5;28;01mreturn\u001b[39;00m ds\n",
      "\u001b[36mFile \u001b[39m\u001b[32m/srv/conda/envs/notebook/lib/python3.11/site-packages/xarray/backends/store.py:45\u001b[39m, in \u001b[36mStoreBackendEntrypoint.open_dataset\u001b[39m\u001b[34m(self, filename_or_obj, mask_and_scale, decode_times, concat_characters, decode_coords, drop_variables, set_indexes, use_cftime, decode_timedelta)\u001b[39m\n\u001b[32m     42\u001b[39m \u001b[38;5;28mvars\u001b[39m, attrs = filename_or_obj.load()\n\u001b[32m     43\u001b[39m encoding = filename_or_obj.get_encoding()\n\u001b[32m---> \u001b[39m\u001b[32m45\u001b[39m \u001b[38;5;28mvars\u001b[39m, attrs, coord_names = \u001b[43mconventions\u001b[49m\u001b[43m.\u001b[49m\u001b[43mdecode_cf_variables\u001b[49m\u001b[43m(\u001b[49m\n\u001b[32m     46\u001b[39m \u001b[43m    \u001b[49m\u001b[38;5;28;43mvars\u001b[39;49m\u001b[43m,\u001b[49m\n\u001b[32m     47\u001b[39m \u001b[43m    \u001b[49m\u001b[43mattrs\u001b[49m\u001b[43m,\u001b[49m\n\u001b[32m     48\u001b[39m \u001b[43m    \u001b[49m\u001b[43mmask_and_scale\u001b[49m\u001b[43m=\u001b[49m\u001b[43mmask_and_scale\u001b[49m\u001b[43m,\u001b[49m\n\u001b[32m     49\u001b[39m \u001b[43m    \u001b[49m\u001b[43mdecode_times\u001b[49m\u001b[43m=\u001b[49m\u001b[43mdecode_times\u001b[49m\u001b[43m,\u001b[49m\n\u001b[32m     50\u001b[39m \u001b[43m    \u001b[49m\u001b[43mconcat_characters\u001b[49m\u001b[43m=\u001b[49m\u001b[43mconcat_characters\u001b[49m\u001b[43m,\u001b[49m\n\u001b[32m     51\u001b[39m \u001b[43m    \u001b[49m\u001b[43mdecode_coords\u001b[49m\u001b[43m=\u001b[49m\u001b[43mdecode_coords\u001b[49m\u001b[43m,\u001b[49m\n\u001b[32m     52\u001b[39m \u001b[43m    \u001b[49m\u001b[43mdrop_variables\u001b[49m\u001b[43m=\u001b[49m\u001b[43mdrop_variables\u001b[49m\u001b[43m,\u001b[49m\n\u001b[32m     53\u001b[39m \u001b[43m    \u001b[49m\u001b[43muse_cftime\u001b[49m\u001b[43m=\u001b[49m\u001b[43muse_cftime\u001b[49m\u001b[43m,\u001b[49m\n\u001b[32m     54\u001b[39m \u001b[43m    \u001b[49m\u001b[43mdecode_timedelta\u001b[49m\u001b[43m=\u001b[49m\u001b[43mdecode_timedelta\u001b[49m\u001b[43m,\u001b[49m\n\u001b[32m     55\u001b[39m \u001b[43m\u001b[49m\u001b[43m)\u001b[49m\n\u001b[32m     57\u001b[39m \u001b[38;5;66;03m# split data and coordinate variables (promote dimension coordinates)\u001b[39;00m\n\u001b[32m     58\u001b[39m data_vars = {}\n",
      "\u001b[36mFile \u001b[39m\u001b[32m/srv/conda/envs/notebook/lib/python3.11/site-packages/xarray/conventions.py:425\u001b[39m, in \u001b[36mdecode_cf_variables\u001b[39m\u001b[34m(variables, attributes, concat_characters, mask_and_scale, decode_times, decode_coords, drop_variables, use_cftime, decode_timedelta)\u001b[39m\n\u001b[32m    412\u001b[39m     new_vars[k] = decode_cf_variable(\n\u001b[32m    413\u001b[39m         k,\n\u001b[32m    414\u001b[39m         v,\n\u001b[32m   (...)\u001b[39m\u001b[32m    422\u001b[39m         decode_timedelta=_item_or_default(decode_timedelta, k, \u001b[38;5;28;01mNone\u001b[39;00m),\n\u001b[32m    423\u001b[39m     )\n\u001b[32m    424\u001b[39m \u001b[38;5;28;01mexcept\u001b[39;00m \u001b[38;5;167;01mException\u001b[39;00m \u001b[38;5;28;01mas\u001b[39;00m e:\n\u001b[32m--> \u001b[39m\u001b[32m425\u001b[39m     \u001b[38;5;28;01mraise\u001b[39;00m \u001b[38;5;28mtype\u001b[39m(e)(\u001b[33mf\u001b[39m\u001b[33m\"\u001b[39m\u001b[33mFailed to decode variable \u001b[39m\u001b[38;5;132;01m{\u001b[39;00mk\u001b[38;5;132;01m!r}\u001b[39;00m\u001b[33m: \u001b[39m\u001b[38;5;132;01m{\u001b[39;00me\u001b[38;5;132;01m}\u001b[39;00m\u001b[33m\"\u001b[39m) \u001b[38;5;28;01mfrom\u001b[39;00m\u001b[38;5;250m \u001b[39m\u001b[34;01me\u001b[39;00m\n\u001b[32m    426\u001b[39m \u001b[38;5;28;01mif\u001b[39;00m decode_coords \u001b[38;5;129;01min\u001b[39;00m [\u001b[38;5;28;01mTrue\u001b[39;00m, \u001b[33m\"\u001b[39m\u001b[33mcoordinates\u001b[39m\u001b[33m\"\u001b[39m, \u001b[33m\"\u001b[39m\u001b[33mall\u001b[39m\u001b[33m\"\u001b[39m]:\n\u001b[32m    427\u001b[39m     var_attrs = new_vars[k].attrs\n",
      "\u001b[31mIcechunkError\u001b[39m: Failed to decode variable 'time':   x no virtual chunk container can handle the chunk location (s3://podaac-ops-cumulus-protected/MUR-JPL-L4-GLOB-v4.1/20020601090000-JPL-L4_GHRSST-SSTfnd-MUR-GLOB-v02.0-fv04.1.nc), edit the\n  | repository configuration adding a virtual chunk container for the chunk references, see https://icechunk.io/en/stable/virtual/\n  | \n  | context:\n  |    0: icechunk::store::get\n  |            with key=\"time/c/0\" byte_range=From(0)\n  |              at icechunk/src/store.rs:198\n  | \n  `-> no virtual chunk container can handle the chunk location (s3://podaac-ops-cumulus-protected/MUR-JPL-L4-GLOB-v4.1/20020601090000-JPL-L4_GHRSST-SSTfnd-MUR-GLOB-v02.0-fv04.1.nc), edit the\n      repository configuration adding a virtual chunk container for the chunk references, see https://icechunk.io/en/stable/virtual/\n"
     ]
    }
   ],
   "source": [
    "%%time\n",
    "mur_ds = xr.open_zarr(session.store, consolidated=False, zarr_format=3)"
   ]
  },
  {
   "cell_type": "code",
   "execution_count": null,
   "id": "0f8932d8-a3d8-40c3-bdbb-add72258655b",
   "metadata": {},
   "outputs": [],
   "source": [
    "print(mur_ds)\n",
    "mur_ds"
   ]
  },
  {
   "cell_type": "code",
   "execution_count": null,
   "id": "3a6f1b55-518b-4ab0-8fc4-f00d4af11b2b",
   "metadata": {},
   "outputs": [],
   "source": [
    "%%time\n",
    "#mur_subset = mur_ds.analysed_sst.sel(lat=slice(*lat_range), lon=slice(*lon_range), time=slice(*time_range)).mean([\"lat\", \"lon\"]).rolling(time=7, center=True).mean().load()\n",
    "mur_subset = mur_ds.analysed_sst.sel(lat=slice(*lat_range), lon=slice(*lon_range), time=slice(*time_range)).mean([\"lat\", \"lon\"]).resample(time=\"W\").mean().load()"
   ]
  },
  {
   "cell_type": "code",
   "execution_count": null,
   "id": "09da2687-3ff7-4954-bf9c-a2fb6c5d6165",
   "metadata": {},
   "outputs": [],
   "source": [
    "fig = plt.figure(figsize=(16, 6)) \n",
    "ax = fig.add_subplot() \n",
    "mur_subset.plot()\n",
    "plt.show()"
   ]
  },
  {
   "cell_type": "markdown",
   "id": "95d9b7c8-580d-4e99-a475-74571aa75662",
   "metadata": {},
   "source": [
    "## Open the PO.DAAC OSTIA VDS created with virtualizarr"
   ]
  },
  {
   "cell_type": "code",
   "execution_count": 8,
   "id": "5f1e8823-f208-441e-adba-e06be160d900",
   "metadata": {},
   "outputs": [],
   "source": [
    "fs = earthaccess.get_s3_filesystem(daac=\"PODAAC\")"
   ]
  },
  {
   "cell_type": "code",
   "execution_count": 9,
   "id": "85892fb2-75c5-448d-b7d4-2c1f681b1ef1",
   "metadata": {},
   "outputs": [
    {
     "name": "stdout",
     "output_type": "stream",
     "text": [
      "CPU times: user 3.69 s, sys: 599 ms, total: 4.29 s\n",
      "Wall time: 8.09 s\n"
     ]
    }
   ],
   "source": [
    "%%time\n",
    "vds_link = \"https://archive.podaac.earthdata.nasa.gov/podaac-ops-cumulus-public/virtual_collections/OSTIA-UKMO-L4-GLOB-REP-v2.0/OSTIA-UKMO-L4-GLOB-REP-v2.0_virtual_s3.json\"\n",
    "ostia_ds = xr.open_dataset(\n",
    "    vds_link,\n",
    "    engine=\"kerchunk\",\n",
    "    chunks={},\n",
    "    backend_kwargs={\n",
    "        \"storage_options\": {\n",
    "            \"remote_protocol\": \"s3\",\n",
    "            \"remote_options\": fs.storage_options\n",
    "        }\n",
    "    }\n",
    ")"
   ]
  },
  {
   "cell_type": "code",
   "execution_count": 20,
   "id": "6bcd92aa-d79e-45a2-a09b-71b95eba4b74",
   "metadata": {},
   "outputs": [
    {
     "name": "stdout",
     "output_type": "stream",
     "text": [
      "<xarray.Dataset> Size: 11TB\n",
      "Dimensions:           (time: 15340, lat: 3600, lon: 7200)\n",
      "Coordinates:\n",
      "  * time              (time) datetime64[ns] 123kB 1982-01-01T12:00:00 ... 202...\n",
      "  * lat               (lat) float32 14kB -89.97 -89.93 -89.88 ... 89.93 89.97\n",
      "  * lon               (lon) float32 29kB -180.0 -179.9 -179.9 ... 179.9 180.0\n",
      "Data variables:\n",
      "    analysed_sst      (time, lat, lon) float64 3TB dask.array<chunksize=(1, 1200, 2400), meta=np.ndarray>\n",
      "    analysis_error    (time, lat, lon) float64 3TB dask.array<chunksize=(1, 1200, 2400), meta=np.ndarray>\n",
      "    sea_ice_fraction  (time, lat, lon) float64 3TB dask.array<chunksize=(1, 1800, 3600), meta=np.ndarray>\n",
      "    mask              (time, lat, lon) float32 2TB dask.array<chunksize=(1, 1800, 3600), meta=np.ndarray>\n",
      "Attributes: (12/39)\n",
      "    Conventions:                CF-1.4, ACDD-1.3\n",
      "    title:                      Global SST & Sea Ice Analysis, L4 OSTIA, 0.05...\n",
      "    summary:                    A merged, multi-sensor L4 Foundation SST product\n",
      "    references:                 Donlon, C.J., Martin, M., Stark, J.D., Robert...\n",
      "    institution:                UKMO\n",
      "    history:                    Created from sst.nc; obs_anal.nc; seaice.nc\n",
      "    ...                         ...\n",
      "    project:                    Group for High Resolution Sea Surface Tempera...\n",
      "    publisher_name:             GHRSST Project Office\n",
      "    publisher_url:              http://www.ghrsst.org\n",
      "    publisher_email:            ghrsst-po@nceo.ac.uk\n",
      "    processing_level:           L4\n",
      "    cdm_data_type:              grid\n"
     ]
    }
   ],
   "source": [
    "print(ostia_ds)"
   ]
  },
  {
   "cell_type": "code",
   "execution_count": 10,
   "id": "135cdec3-2f49-46fb-9c29-920a50ded08e",
   "metadata": {},
   "outputs": [
    {
     "name": "stdout",
     "output_type": "stream",
     "text": [
      "CPU times: user 3min 53s, sys: 4.89 s, total: 3min 58s\n",
      "Wall time: 3min 18s\n"
     ]
    }
   ],
   "source": [
    "%%time\n",
    "ostia_subset = ostia_ds.analysed_sst.sel(lat=slice(*lat_range), lon=slice(*lon_range), time=slice(*time_range)).mean([\"lat\", \"lon\"]).resample(time=\"W\").mean().load()"
   ]
  },
  {
   "cell_type": "code",
   "execution_count": 11,
   "id": "18b17e43-1ca0-47bb-9828-7996e9d3df51",
   "metadata": {},
   "outputs": [
    {
     "data": {
      "image/png": "[encoded data removed]",
      "text/plain": [
       "<Figure size 1600x600 with 1 Axes>"
      ]
     },
     "metadata": {},
     "output_type": "display_data"
    }
   ],
   "source": [
    "fig = plt.figure(figsize=(16, 6)) \n",
    "ax = fig.add_subplot() \n",
    "ostia_subset.plot()\n",
    "plt.show()"
   ]
  },
  {
   "cell_type": "markdown",
   "id": "52801d85-800e-46a5-afb2-2d3c21474439",
   "metadata": {},
   "source": [
    "## Perform overlploting of MUR vs OSTIA SST"
   ]
  },
  {
   "cell_type": "code",
   "execution_count": null,
   "id": "31c97130-d4eb-42a3-b006-02b3020c9112",
   "metadata": {},
   "outputs": [],
   "source": [
    "fig = plt.figure(figsize=(16,6), layout=\"tight\")\n",
    "ax = plt.axes()\n",
    "plt.plot(ostia_subset[\"time\"].values, ostia_subset, color='blue', label='OSTIA (Virtualizarr)')\n",
    "plt.plot(mur_subset[\"time\"].values, mur_subset, color='red',label='MUR (Icechunk)' )\n",
    "plt.xlabel(\"Year\", fontsize=12)\n",
    "plt.ylabel(\"SST (K)\", fontsize=12)\n",
    "plt.legend(loc='upper left', )\n",
    "ax.tick_params(axis='both', which='major', labelsize=10)\n",
    "plt.show()\n"
   ]
  },
  {
   "cell_type": "markdown",
   "id": "7293f866-84cb-4ffb-aa18-dc4e0d74e1a6",
   "metadata": {},
   "source": [
    "## Step 5 Option 2: Read and plot with `zarr-python`\n",
    "\n",
    "This option requires more data formatting steps, but is found to be faster than xarray. "
   ]
  },
  {
   "cell_type": "markdown",
   "id": "5c7b041f-2a7d-45e5-89f3-67bc828574d5",
   "metadata": {},
   "source": [
    "#### 5a. Open zarr store"
   ]
  },
  {
   "cell_type": "code",
   "execution_count": 12,
   "id": "5cfeac05-9ff4-48b3-b1ab-f0cab5f61790",
   "metadata": {},
   "outputs": [
    {
     "name": "stdout",
     "output_type": "stream",
     "text": [
      "CPU times: user 2.76 ms, sys: 143 μs, total: 2.9 ms\n",
      "Wall time: 5.69 ms\n"
     ]
    }
   ],
   "source": [
    "%%time\n",
    "zarr_store = zarr.open(session.store, mode=\"r\")"
   ]
  },
  {
   "cell_type": "markdown",
   "id": "9757ddf7-43af-4684-9165-735b6584e415",
   "metadata": {},
   "source": [
    "#### 5b. Create datetime array for plotting"
   ]
  },
  {
   "cell_type": "code",
   "execution_count": 13,
   "id": "e328d522-6792-4da2-aa69-a71720a337ee",
   "metadata": {},
   "outputs": [
    {
     "name": "stdout",
     "output_type": "stream",
     "text": [
      "CPU times: user 441 ms, sys: 12 ms, total: 453 ms\n",
      "Wall time: 452 ms\n"
     ]
    },
    {
     "ename": "IcechunkError",
     "evalue": "  x no virtual chunk container can handle the chunk location (s3://podaac-ops-cumulus-protected/MUR-JPL-L4-GLOB-v4.1/20020602090000-JPL-L4_GHRSST-SSTfnd-MUR-GLOB-v02.0-fv04.1.nc), edit the\n  | repository configuration adding a virtual chunk container for the chunk references, see https://icechunk.io/en/stable/virtual/\n  | \n  | context:\n  |    0: icechunk::store::get\n  |            with key=\"time/c/1\" byte_range=From(0)\n  |              at icechunk/src/store.rs:198\n  | \n  `-> no virtual chunk container can handle the chunk location (s3://podaac-ops-cumulus-protected/MUR-JPL-L4-GLOB-v4.1/20020602090000-JPL-L4_GHRSST-SSTfnd-MUR-GLOB-v02.0-fv04.1.nc), edit the\n      repository configuration adding a virtual chunk container for the chunk references, see https://icechunk.io/en/stable/virtual/\n",
     "output_type": "error",
     "traceback": [
      "\u001b[31m---------------------------------------------------------------------------\u001b[39m",
      "\u001b[31mIcechunkError\u001b[39m                             Traceback (most recent call last)",
      "\u001b[36mCell\u001b[39m\u001b[36m \u001b[39m\u001b[32mIn[13]\u001b[39m\u001b[32m, line 1\u001b[39m\n\u001b[32m----> \u001b[39m\u001b[32m1\u001b[39m \u001b[43mget_ipython\u001b[49m\u001b[43m(\u001b[49m\u001b[43m)\u001b[49m\u001b[43m.\u001b[49m\u001b[43mrun_cell_magic\u001b[49m\u001b[43m(\u001b[49m\u001b[33;43m'\u001b[39;49m\u001b[33;43mtime\u001b[39;49m\u001b[33;43m'\u001b[39;49m\u001b[43m,\u001b[49m\u001b[43m \u001b[49m\u001b[33;43m'\u001b[39;49m\u001b[33;43m'\u001b[39;49m\u001b[43m,\u001b[49m\u001b[43m \u001b[49m\u001b[33;43m\"\u001b[39;49m\u001b[33;43mepoch = datetime(1981, 1, 1)\u001b[39;49m\u001b[38;5;130;43;01m\\n\u001b[39;49;00m\u001b[33;43mdt_array = np.array([epoch + timedelta(seconds=int(t)) for t in zarr_store[\u001b[39;49m\u001b[33;43m'\u001b[39;49m\u001b[33;43mtime\u001b[39;49m\u001b[33;43m'\u001b[39;49m\u001b[33;43m][:]])\u001b[39;49m\u001b[38;5;130;43;01m\\n\u001b[39;49;00m\u001b[33;43m\"\u001b[39;49m\u001b[43m)\u001b[49m\n",
      "\u001b[36mFile \u001b[39m\u001b[32m/srv/conda/envs/notebook/lib/python3.11/site-packages/IPython/core/interactiveshell.py:2565\u001b[39m, in \u001b[36mInteractiveShell.run_cell_magic\u001b[39m\u001b[34m(self, magic_name, line, cell)\u001b[39m\n\u001b[32m   2563\u001b[39m \u001b[38;5;28;01mwith\u001b[39;00m \u001b[38;5;28mself\u001b[39m.builtin_trap:\n\u001b[32m   2564\u001b[39m     args = (magic_arg_s, cell)\n\u001b[32m-> \u001b[39m\u001b[32m2565\u001b[39m     result = \u001b[43mfn\u001b[49m\u001b[43m(\u001b[49m\u001b[43m*\u001b[49m\u001b[43margs\u001b[49m\u001b[43m,\u001b[49m\u001b[43m \u001b[49m\u001b[43m*\u001b[49m\u001b[43m*\u001b[49m\u001b[43mkwargs\u001b[49m\u001b[43m)\u001b[49m\n\u001b[32m   2567\u001b[39m \u001b[38;5;66;03m# The code below prevents the output from being displayed\u001b[39;00m\n\u001b[32m   2568\u001b[39m \u001b[38;5;66;03m# when using magics with decorator @output_can_be_silenced\u001b[39;00m\n\u001b[32m   2569\u001b[39m \u001b[38;5;66;03m# when the last Python token in the expression is a ';'.\u001b[39;00m\n\u001b[32m   2570\u001b[39m \u001b[38;5;28;01mif\u001b[39;00m \u001b[38;5;28mgetattr\u001b[39m(fn, magic.MAGIC_OUTPUT_CAN_BE_SILENCED, \u001b[38;5;28;01mFalse\u001b[39;00m):\n",
      "\u001b[36mFile \u001b[39m\u001b[32m/srv/conda/envs/notebook/lib/python3.11/site-packages/IPython/core/magics/execution.py:1470\u001b[39m, in \u001b[36mExecutionMagics.time\u001b[39m\u001b[34m(self, line, cell, local_ns)\u001b[39m\n\u001b[32m   1468\u001b[39m \u001b[38;5;28;01mif\u001b[39;00m interrupt_occured:\n\u001b[32m   1469\u001b[39m     \u001b[38;5;28;01mif\u001b[39;00m exit_on_interrupt \u001b[38;5;129;01mand\u001b[39;00m captured_exception:\n\u001b[32m-> \u001b[39m\u001b[32m1470\u001b[39m         \u001b[38;5;28;01mraise\u001b[39;00m captured_exception\n\u001b[32m   1471\u001b[39m     \u001b[38;5;28;01mreturn\u001b[39;00m\n\u001b[32m   1472\u001b[39m \u001b[38;5;28;01mreturn\u001b[39;00m out\n",
      "\u001b[36mFile \u001b[39m\u001b[32m/srv/conda/envs/notebook/lib/python3.11/site-packages/IPython/core/magics/execution.py:1434\u001b[39m, in \u001b[36mExecutionMagics.time\u001b[39m\u001b[34m(self, line, cell, local_ns)\u001b[39m\n\u001b[32m   1432\u001b[39m st = clock2()\n\u001b[32m   1433\u001b[39m \u001b[38;5;28;01mtry\u001b[39;00m:\n\u001b[32m-> \u001b[39m\u001b[32m1434\u001b[39m     \u001b[43mexec\u001b[49m\u001b[43m(\u001b[49m\u001b[43mcode\u001b[49m\u001b[43m,\u001b[49m\u001b[43m \u001b[49m\u001b[43mglob\u001b[49m\u001b[43m,\u001b[49m\u001b[43m \u001b[49m\u001b[43mlocal_ns\u001b[49m\u001b[43m)\u001b[49m\n\u001b[32m   1435\u001b[39m     out = \u001b[38;5;28;01mNone\u001b[39;00m\n\u001b[32m   1436\u001b[39m     \u001b[38;5;66;03m# multi-line %%time case\u001b[39;00m\n",
      "\u001b[36mFile \u001b[39m\u001b[32m<timed exec>:2\u001b[39m\n",
      "\u001b[36mFile \u001b[39m\u001b[32m/srv/conda/envs/notebook/lib/python3.11/site-packages/zarr/core/array.py:2441\u001b[39m, in \u001b[36mArray.__getitem__\u001b[39m\u001b[34m(self, selection)\u001b[39m\n\u001b[32m   2439\u001b[39m     \u001b[38;5;28;01mreturn\u001b[39;00m \u001b[38;5;28mself\u001b[39m.vindex[cast(CoordinateSelection | MaskSelection, selection)]\n\u001b[32m   2440\u001b[39m \u001b[38;5;28;01melif\u001b[39;00m is_pure_orthogonal_indexing(pure_selection, \u001b[38;5;28mself\u001b[39m.ndim):\n\u001b[32m-> \u001b[39m\u001b[32m2441\u001b[39m     \u001b[38;5;28;01mreturn\u001b[39;00m \u001b[38;5;28;43mself\u001b[39;49m\u001b[43m.\u001b[49m\u001b[43mget_orthogonal_selection\u001b[49m\u001b[43m(\u001b[49m\u001b[43mpure_selection\u001b[49m\u001b[43m,\u001b[49m\u001b[43m \u001b[49m\u001b[43mfields\u001b[49m\u001b[43m=\u001b[49m\u001b[43mfields\u001b[49m\u001b[43m)\u001b[49m\n\u001b[32m   2442\u001b[39m \u001b[38;5;28;01melse\u001b[39;00m:\n\u001b[32m   2443\u001b[39m     \u001b[38;5;28;01mreturn\u001b[39;00m \u001b[38;5;28mself\u001b[39m.get_basic_selection(cast(BasicSelection, pure_selection), fields=fields)\n",
      "\u001b[36mFile \u001b[39m\u001b[32m/srv/conda/envs/notebook/lib/python3.11/site-packages/zarr/_compat.py:43\u001b[39m, in \u001b[36m_deprecate_positional_args.<locals>._inner_deprecate_positional_args.<locals>.inner_f\u001b[39m\u001b[34m(*args, **kwargs)\u001b[39m\n\u001b[32m     41\u001b[39m extra_args = \u001b[38;5;28mlen\u001b[39m(args) - \u001b[38;5;28mlen\u001b[39m(all_args)\n\u001b[32m     42\u001b[39m \u001b[38;5;28;01mif\u001b[39;00m extra_args <= \u001b[32m0\u001b[39m:\n\u001b[32m---> \u001b[39m\u001b[32m43\u001b[39m     \u001b[38;5;28;01mreturn\u001b[39;00m \u001b[43mf\u001b[49m\u001b[43m(\u001b[49m\u001b[43m*\u001b[49m\u001b[43margs\u001b[49m\u001b[43m,\u001b[49m\u001b[43m \u001b[49m\u001b[43m*\u001b[49m\u001b[43m*\u001b[49m\u001b[43mkwargs\u001b[49m\u001b[43m)\u001b[49m\n\u001b[32m     45\u001b[39m \u001b[38;5;66;03m# extra_args > 0\u001b[39;00m\n\u001b[32m     46\u001b[39m args_msg = [\n\u001b[32m     47\u001b[39m     \u001b[33mf\u001b[39m\u001b[33m\"\u001b[39m\u001b[38;5;132;01m{\u001b[39;00mname\u001b[38;5;132;01m}\u001b[39;00m\u001b[33m=\u001b[39m\u001b[38;5;132;01m{\u001b[39;00marg\u001b[38;5;132;01m}\u001b[39;00m\u001b[33m\"\u001b[39m\n\u001b[32m     48\u001b[39m     \u001b[38;5;28;01mfor\u001b[39;00m name, arg \u001b[38;5;129;01min\u001b[39;00m \u001b[38;5;28mzip\u001b[39m(kwonly_args[:extra_args], args[-extra_args:], strict=\u001b[38;5;28;01mFalse\u001b[39;00m)\n\u001b[32m     49\u001b[39m ]\n",
      "\u001b[36mFile \u001b[39m\u001b[32m/srv/conda/envs/notebook/lib/python3.11/site-packages/zarr/core/array.py:2883\u001b[39m, in \u001b[36mArray.get_orthogonal_selection\u001b[39m\u001b[34m(self, selection, out, fields, prototype)\u001b[39m\n\u001b[32m   2881\u001b[39m     prototype = default_buffer_prototype()\n\u001b[32m   2882\u001b[39m indexer = OrthogonalIndexer(selection, \u001b[38;5;28mself\u001b[39m.shape, \u001b[38;5;28mself\u001b[39m.metadata.chunk_grid)\n\u001b[32m-> \u001b[39m\u001b[32m2883\u001b[39m \u001b[38;5;28;01mreturn\u001b[39;00m \u001b[43msync\u001b[49m\u001b[43m(\u001b[49m\n\u001b[32m   2884\u001b[39m \u001b[43m    \u001b[49m\u001b[38;5;28;43mself\u001b[39;49m\u001b[43m.\u001b[49m\u001b[43m_async_array\u001b[49m\u001b[43m.\u001b[49m\u001b[43m_get_selection\u001b[49m\u001b[43m(\u001b[49m\n\u001b[32m   2885\u001b[39m \u001b[43m        \u001b[49m\u001b[43mindexer\u001b[49m\u001b[43m=\u001b[49m\u001b[43mindexer\u001b[49m\u001b[43m,\u001b[49m\u001b[43m \u001b[49m\u001b[43mout\u001b[49m\u001b[43m=\u001b[49m\u001b[43mout\u001b[49m\u001b[43m,\u001b[49m\u001b[43m \u001b[49m\u001b[43mfields\u001b[49m\u001b[43m=\u001b[49m\u001b[43mfields\u001b[49m\u001b[43m,\u001b[49m\u001b[43m \u001b[49m\u001b[43mprototype\u001b[49m\u001b[43m=\u001b[49m\u001b[43mprototype\u001b[49m\n\u001b[32m   2886\u001b[39m \u001b[43m    \u001b[49m\u001b[43m)\u001b[49m\n\u001b[32m   2887\u001b[39m \u001b[43m\u001b[49m\u001b[43m)\u001b[49m\n",
      "\u001b[36mFile \u001b[39m\u001b[32m/srv/conda/envs/notebook/lib/python3.11/site-packages/zarr/core/sync.py:163\u001b[39m, in \u001b[36msync\u001b[39m\u001b[34m(coro, loop, timeout)\u001b[39m\n\u001b[32m    160\u001b[39m return_result = \u001b[38;5;28mnext\u001b[39m(\u001b[38;5;28miter\u001b[39m(finished)).result()\n\u001b[32m    162\u001b[39m \u001b[38;5;28;01mif\u001b[39;00m \u001b[38;5;28misinstance\u001b[39m(return_result, \u001b[38;5;167;01mBaseException\u001b[39;00m):\n\u001b[32m--> \u001b[39m\u001b[32m163\u001b[39m     \u001b[38;5;28;01mraise\u001b[39;00m return_result\n\u001b[32m    164\u001b[39m \u001b[38;5;28;01melse\u001b[39;00m:\n\u001b[32m    165\u001b[39m     \u001b[38;5;28;01mreturn\u001b[39;00m return_result\n",
      "\u001b[36mFile \u001b[39m\u001b[32m/srv/conda/envs/notebook/lib/python3.11/site-packages/zarr/core/sync.py:119\u001b[39m, in \u001b[36m_runner\u001b[39m\u001b[34m(coro)\u001b[39m\n\u001b[32m    114\u001b[39m \u001b[38;5;250m\u001b[39m\u001b[33;03m\"\"\"\u001b[39;00m\n\u001b[32m    115\u001b[39m \u001b[33;03mAwait a coroutine and return the result of running it. If awaiting the coroutine raises an\u001b[39;00m\n\u001b[32m    116\u001b[39m \u001b[33;03mexception, the exception will be returned.\u001b[39;00m\n\u001b[32m    117\u001b[39m \u001b[33;03m\"\"\"\u001b[39;00m\n\u001b[32m    118\u001b[39m \u001b[38;5;28;01mtry\u001b[39;00m:\n\u001b[32m--> \u001b[39m\u001b[32m119\u001b[39m     \u001b[38;5;28;01mreturn\u001b[39;00m \u001b[38;5;28;01mawait\u001b[39;00m coro\n\u001b[32m    120\u001b[39m \u001b[38;5;28;01mexcept\u001b[39;00m \u001b[38;5;167;01mException\u001b[39;00m \u001b[38;5;28;01mas\u001b[39;00m ex:\n\u001b[32m    121\u001b[39m     \u001b[38;5;28;01mreturn\u001b[39;00m ex\n",
      "\u001b[36mFile \u001b[39m\u001b[32m/srv/conda/envs/notebook/lib/python3.11/site-packages/zarr/core/array.py:1298\u001b[39m, in \u001b[36mAsyncArray._get_selection\u001b[39m\u001b[34m(self, indexer, prototype, out, fields)\u001b[39m\n\u001b[32m   1295\u001b[39m         _config = replace(_config, order=\u001b[38;5;28mself\u001b[39m.order)\n\u001b[32m   1297\u001b[39m     \u001b[38;5;66;03m# reading chunks and decoding them\u001b[39;00m\n\u001b[32m-> \u001b[39m\u001b[32m1298\u001b[39m     \u001b[38;5;28;01mawait\u001b[39;00m \u001b[38;5;28mself\u001b[39m.codec_pipeline.read(\n\u001b[32m   1299\u001b[39m         [\n\u001b[32m   1300\u001b[39m             (\n\u001b[32m   1301\u001b[39m                 \u001b[38;5;28mself\u001b[39m.store_path / \u001b[38;5;28mself\u001b[39m.metadata.encode_chunk_key(chunk_coords),\n\u001b[32m   1302\u001b[39m                 \u001b[38;5;28mself\u001b[39m.metadata.get_chunk_spec(chunk_coords, _config, prototype=prototype),\n\u001b[32m   1303\u001b[39m                 chunk_selection,\n\u001b[32m   1304\u001b[39m                 out_selection,\n\u001b[32m   1305\u001b[39m                 is_complete_chunk,\n\u001b[32m   1306\u001b[39m             )\n\u001b[32m   1307\u001b[39m             \u001b[38;5;28;01mfor\u001b[39;00m chunk_coords, chunk_selection, out_selection, is_complete_chunk \u001b[38;5;129;01min\u001b[39;00m indexer\n\u001b[32m   1308\u001b[39m         ],\n\u001b[32m   1309\u001b[39m         out_buffer,\n\u001b[32m   1310\u001b[39m         drop_axes=indexer.drop_axes,\n\u001b[32m   1311\u001b[39m     )\n\u001b[32m   1312\u001b[39m \u001b[38;5;28;01mif\u001b[39;00m \u001b[38;5;28misinstance\u001b[39m(indexer, BasicIndexer) \u001b[38;5;129;01mand\u001b[39;00m indexer.shape == ():\n\u001b[32m   1313\u001b[39m     \u001b[38;5;28;01mreturn\u001b[39;00m out_buffer.as_scalar()\n",
      "\u001b[36mFile \u001b[39m\u001b[32m/srv/conda/envs/notebook/lib/python3.11/site-packages/zarr/core/codec_pipeline.py:464\u001b[39m, in \u001b[36mBatchedCodecPipeline.read\u001b[39m\u001b[34m(self, batch_info, out, drop_axes)\u001b[39m\n\u001b[32m    458\u001b[39m \u001b[38;5;28;01masync\u001b[39;00m \u001b[38;5;28;01mdef\u001b[39;00m\u001b[38;5;250m \u001b[39m\u001b[34mread\u001b[39m(\n\u001b[32m    459\u001b[39m     \u001b[38;5;28mself\u001b[39m,\n\u001b[32m    460\u001b[39m     batch_info: Iterable[\u001b[38;5;28mtuple\u001b[39m[ByteGetter, ArraySpec, SelectorTuple, SelectorTuple, \u001b[38;5;28mbool\u001b[39m]],\n\u001b[32m    461\u001b[39m     out: NDBuffer,\n\u001b[32m    462\u001b[39m     drop_axes: \u001b[38;5;28mtuple\u001b[39m[\u001b[38;5;28mint\u001b[39m, ...] = (),\n\u001b[32m    463\u001b[39m ) -> \u001b[38;5;28;01mNone\u001b[39;00m:\n\u001b[32m--> \u001b[39m\u001b[32m464\u001b[39m     \u001b[38;5;28;01mawait\u001b[39;00m concurrent_map(\n\u001b[32m    465\u001b[39m         [\n\u001b[32m    466\u001b[39m             (single_batch_info, out, drop_axes)\n\u001b[32m    467\u001b[39m             \u001b[38;5;28;01mfor\u001b[39;00m single_batch_info \u001b[38;5;129;01min\u001b[39;00m batched(batch_info, \u001b[38;5;28mself\u001b[39m.batch_size)\n\u001b[32m    468\u001b[39m         ],\n\u001b[32m    469\u001b[39m         \u001b[38;5;28mself\u001b[39m.read_batch,\n\u001b[32m    470\u001b[39m         config.get(\u001b[33m\"\u001b[39m\u001b[33masync.concurrency\u001b[39m\u001b[33m\"\u001b[39m),\n\u001b[32m    471\u001b[39m     )\n",
      "\u001b[36mFile \u001b[39m\u001b[32m/srv/conda/envs/notebook/lib/python3.11/site-packages/zarr/core/common.py:69\u001b[39m, in \u001b[36mconcurrent_map\u001b[39m\u001b[34m(items, func, limit)\u001b[39m\n\u001b[32m     66\u001b[39m     \u001b[38;5;28;01masync\u001b[39;00m \u001b[38;5;28;01mwith\u001b[39;00m sem:\n\u001b[32m     67\u001b[39m         \u001b[38;5;28;01mreturn\u001b[39;00m \u001b[38;5;28;01mawait\u001b[39;00m func(*item)\n\u001b[32m---> \u001b[39m\u001b[32m69\u001b[39m \u001b[38;5;28;01mreturn\u001b[39;00m \u001b[38;5;28;01mawait\u001b[39;00m asyncio.gather(*[asyncio.ensure_future(run(item)) \u001b[38;5;28;01mfor\u001b[39;00m item \u001b[38;5;129;01min\u001b[39;00m items])\n",
      "\u001b[36mFile \u001b[39m\u001b[32m/srv/conda/envs/notebook/lib/python3.11/site-packages/zarr/core/common.py:67\u001b[39m, in \u001b[36mconcurrent_map.<locals>.run\u001b[39m\u001b[34m(item)\u001b[39m\n\u001b[32m     65\u001b[39m \u001b[38;5;28;01masync\u001b[39;00m \u001b[38;5;28;01mdef\u001b[39;00m\u001b[38;5;250m \u001b[39m\u001b[34mrun\u001b[39m(item: \u001b[38;5;28mtuple\u001b[39m[Any]) -> V:\n\u001b[32m     66\u001b[39m     \u001b[38;5;28;01masync\u001b[39;00m \u001b[38;5;28;01mwith\u001b[39;00m sem:\n\u001b[32m---> \u001b[39m\u001b[32m67\u001b[39m         \u001b[38;5;28;01mreturn\u001b[39;00m \u001b[38;5;28;01mawait\u001b[39;00m func(*item)\n",
      "\u001b[36mFile \u001b[39m\u001b[32m/srv/conda/envs/notebook/lib/python3.11/site-packages/zarr/core/codec_pipeline.py:265\u001b[39m, in \u001b[36mBatchedCodecPipeline.read_batch\u001b[39m\u001b[34m(self, batch_info, out, drop_axes)\u001b[39m\n\u001b[32m    263\u001b[39m             out[out_selection] = fill_value_or_default(chunk_spec)\n\u001b[32m    264\u001b[39m \u001b[38;5;28;01melse\u001b[39;00m:\n\u001b[32m--> \u001b[39m\u001b[32m265\u001b[39m     chunk_bytes_batch = \u001b[38;5;28;01mawait\u001b[39;00m concurrent_map(\n\u001b[32m    266\u001b[39m         [(byte_getter, array_spec.prototype) \u001b[38;5;28;01mfor\u001b[39;00m byte_getter, array_spec, *_ \u001b[38;5;129;01min\u001b[39;00m batch_info],\n\u001b[32m    267\u001b[39m         \u001b[38;5;28;01mlambda\u001b[39;00m byte_getter, prototype: byte_getter.get(prototype),\n\u001b[32m    268\u001b[39m         config.get(\u001b[33m\"\u001b[39m\u001b[33masync.concurrency\u001b[39m\u001b[33m\"\u001b[39m),\n\u001b[32m    269\u001b[39m     )\n\u001b[32m    270\u001b[39m     chunk_array_batch = \u001b[38;5;28;01mawait\u001b[39;00m \u001b[38;5;28mself\u001b[39m.decode_batch(\n\u001b[32m    271\u001b[39m         [\n\u001b[32m    272\u001b[39m             (chunk_bytes, chunk_spec)\n\u001b[32m   (...)\u001b[39m\u001b[32m    276\u001b[39m         ],\n\u001b[32m    277\u001b[39m     )\n\u001b[32m    278\u001b[39m     \u001b[38;5;28;01mfor\u001b[39;00m chunk_array, (_, chunk_spec, chunk_selection, out_selection, _) \u001b[38;5;129;01min\u001b[39;00m \u001b[38;5;28mzip\u001b[39m(\n\u001b[32m    279\u001b[39m         chunk_array_batch, batch_info, strict=\u001b[38;5;28;01mFalse\u001b[39;00m\n\u001b[32m    280\u001b[39m     ):\n",
      "\u001b[36mFile \u001b[39m\u001b[32m/srv/conda/envs/notebook/lib/python3.11/site-packages/zarr/core/common.py:69\u001b[39m, in \u001b[36mconcurrent_map\u001b[39m\u001b[34m(items, func, limit)\u001b[39m\n\u001b[32m     66\u001b[39m     \u001b[38;5;28;01masync\u001b[39;00m \u001b[38;5;28;01mwith\u001b[39;00m sem:\n\u001b[32m     67\u001b[39m         \u001b[38;5;28;01mreturn\u001b[39;00m \u001b[38;5;28;01mawait\u001b[39;00m func(*item)\n\u001b[32m---> \u001b[39m\u001b[32m69\u001b[39m \u001b[38;5;28;01mreturn\u001b[39;00m \u001b[38;5;28;01mawait\u001b[39;00m asyncio.gather(*[asyncio.ensure_future(run(item)) \u001b[38;5;28;01mfor\u001b[39;00m item \u001b[38;5;129;01min\u001b[39;00m items])\n",
      "\u001b[36mFile \u001b[39m\u001b[32m/srv/conda/envs/notebook/lib/python3.11/site-packages/zarr/core/common.py:67\u001b[39m, in \u001b[36mconcurrent_map.<locals>.run\u001b[39m\u001b[34m(item)\u001b[39m\n\u001b[32m     65\u001b[39m \u001b[38;5;28;01masync\u001b[39;00m \u001b[38;5;28;01mdef\u001b[39;00m\u001b[38;5;250m \u001b[39m\u001b[34mrun\u001b[39m(item: \u001b[38;5;28mtuple\u001b[39m[Any]) -> V:\n\u001b[32m     66\u001b[39m     \u001b[38;5;28;01masync\u001b[39;00m \u001b[38;5;28;01mwith\u001b[39;00m sem:\n\u001b[32m---> \u001b[39m\u001b[32m67\u001b[39m         \u001b[38;5;28;01mreturn\u001b[39;00m \u001b[38;5;28;01mawait\u001b[39;00m func(*item)\n",
      "\u001b[36mFile \u001b[39m\u001b[32m/srv/conda/envs/notebook/lib/python3.11/site-packages/zarr/storage/_common.py:124\u001b[39m, in \u001b[36mStorePath.get\u001b[39m\u001b[34m(self, prototype, byte_range)\u001b[39m\n\u001b[32m    122\u001b[39m \u001b[38;5;28;01mif\u001b[39;00m prototype \u001b[38;5;129;01mis\u001b[39;00m \u001b[38;5;28;01mNone\u001b[39;00m:\n\u001b[32m    123\u001b[39m     prototype = default_buffer_prototype()\n\u001b[32m--> \u001b[39m\u001b[32m124\u001b[39m \u001b[38;5;28;01mreturn\u001b[39;00m \u001b[38;5;28;01mawait\u001b[39;00m \u001b[38;5;28mself\u001b[39m.store.get(\u001b[38;5;28mself\u001b[39m.path, prototype=prototype, byte_range=byte_range)\n",
      "\u001b[36mFile \u001b[39m\u001b[32m/srv/conda/envs/notebook/lib/python3.11/site-packages/icechunk/store.py:162\u001b[39m, in \u001b[36mIcechunkStore.get\u001b[39m\u001b[34m(self, key, prototype, byte_range)\u001b[39m\n\u001b[32m    143\u001b[39m \u001b[38;5;250m\u001b[39m\u001b[33;03m\"\"\"Retrieve the value associated with a given key.\u001b[39;00m\n\u001b[32m    144\u001b[39m \n\u001b[32m    145\u001b[39m \u001b[33;03mParameters\u001b[39;00m\n\u001b[32m   (...)\u001b[39m\u001b[32m    158\u001b[39m \u001b[33;03mBuffer\u001b[39;00m\n\u001b[32m    159\u001b[39m \u001b[33;03m\"\"\"\u001b[39;00m\n\u001b[32m    161\u001b[39m \u001b[38;5;28;01mtry\u001b[39;00m:\n\u001b[32m--> \u001b[39m\u001b[32m162\u001b[39m     result = \u001b[38;5;28;01mawait\u001b[39;00m \u001b[38;5;28mself\u001b[39m._store.get(key, _byte_request_to_tuple(byte_range))\n\u001b[32m    163\u001b[39m \u001b[38;5;28;01mexcept\u001b[39;00m \u001b[38;5;167;01mKeyError\u001b[39;00m \u001b[38;5;28;01mas\u001b[39;00m _e:\n\u001b[32m    164\u001b[39m     \u001b[38;5;66;03m# Zarr python expects None to be returned if the key does not exist\u001b[39;00m\n\u001b[32m    165\u001b[39m     \u001b[38;5;66;03m# but an IcechunkStore returns an error if the key does not exist\u001b[39;00m\n\u001b[32m    166\u001b[39m     \u001b[38;5;28;01mreturn\u001b[39;00m \u001b[38;5;28;01mNone\u001b[39;00m\n",
      "\u001b[31mIcechunkError\u001b[39m:   x no virtual chunk container can handle the chunk location (s3://podaac-ops-cumulus-protected/MUR-JPL-L4-GLOB-v4.1/20020602090000-JPL-L4_GHRSST-SSTfnd-MUR-GLOB-v02.0-fv04.1.nc), edit the\n  | repository configuration adding a virtual chunk container for the chunk references, see https://icechunk.io/en/stable/virtual/\n  | \n  | context:\n  |    0: icechunk::store::get\n  |            with key=\"time/c/1\" byte_range=From(0)\n  |              at icechunk/src/store.rs:198\n  | \n  `-> no virtual chunk container can handle the chunk location (s3://podaac-ops-cumulus-protected/MUR-JPL-L4-GLOB-v4.1/20020602090000-JPL-L4_GHRSST-SSTfnd-MUR-GLOB-v02.0-fv04.1.nc), edit the\n      repository configuration adding a virtual chunk container for the chunk references, see https://icechunk.io/en/stable/virtual/\n"
     ]
    }
   ],
   "source": [
    "%%time\n",
    "epoch = datetime(1981, 1, 1)\n",
    "dt_array = np.array([epoch + timedelta(seconds=int(t)) for t in zarr_store['time'][:]])"
   ]
  },
  {
   "cell_type": "markdown",
   "id": "7d273579-b447-4bb0-9899-1960a51df94e",
   "metadata": {},
   "source": [
    "#### 5c. Create slice indices from lat and lon ranges"
   ]
  },
  {
   "cell_type": "code",
   "execution_count": null,
   "id": "b6d6c2a9-d5dd-4dc0-8f27-646b0b0cc4cd",
   "metadata": {},
   "outputs": [],
   "source": [
    "lat_range = list(lat_range)\n",
    "lon_range = list(lon_range)\n",
    "lat_indices = [int((lat - lat_min)/resolution) for lat in lat_range]\n",
    "lon_indices = [int((lon - lon_min)/resolution) for lon in lon_range]"
   ]
  },
  {
   "cell_type": "markdown",
   "id": "348f59cc-9fc5-4c23-94ac-19e5f0dd8c4d",
   "metadata": {},
   "source": [
    "#### 5d. Subset and load data"
   ]
  },
  {
   "cell_type": "code",
   "execution_count": null,
   "id": "483c5e91-26de-41da-b93f-66368aa707c2",
   "metadata": {},
   "outputs": [],
   "source": [
    "%%time\n",
    "sst_subset = zarr_store[\"analysed_sst\"][:, lat_indices[0]:lat_indices[1], lon_indices[0]:lon_indices[1]]\n",
    "print(f\"Fetched {'{:,}'.format(np.prod(sst_subset.shape))} points\")"
   ]
  },
  {
   "cell_type": "markdown",
   "id": "96ac93c6-870e-4941-beb5-aa0087e844ac",
   "metadata": {},
   "source": [
    "#### 5e. Mask data"
   ]
  },
  {
   "cell_type": "code",
   "execution_count": null,
   "id": "62fbc1d9-c590-41ab-a44b-b6a50d649ba5",
   "metadata": {
    "scrolled": true
   },
   "outputs": [],
   "source": [
    "%%time\n",
    "fill_value = zarr_store[\"analysed_sst\"].fill_value\n",
    "masked_array = np.ma.masked_equal(sst_subset, fill_value)"
   ]
  },
  {
   "cell_type": "markdown",
   "id": "de438c05-758b-4b63-b625-2cba46b5eb93",
   "metadata": {},
   "source": [
    "#### 5f. Calculate spatial mean over time; add smoothing on a weekly time scale"
   ]
  },
  {
   "cell_type": "code",
   "execution_count": null,
   "id": "ed7cbc49-2a24-41fb-9e2f-045418c576df",
   "metadata": {},
   "outputs": [],
   "source": [
    "%%time\n",
    "sst_mean = masked_array.mean(axis=(1,2))\n",
    "#window_size = 7  #7 days\n",
    "#weights = np.ones(window_size) / window_size\n",
    "#sst_mean = np.convolve(sst_mean, weights, mode='valid')"
   ]
  },
  {
   "cell_type": "markdown",
   "id": "5403268b-7bc9-4479-937f-c60ea896f21c",
   "metadata": {},
   "source": [
    "#### 5g. Scale result"
   ]
  },
  {
   "cell_type": "code",
   "execution_count": null,
   "id": "ab5f4975-357f-4605-9592-e8e1f97a6808",
   "metadata": {},
   "outputs": [],
   "source": [
    "%%time\n",
    "sst_attrs = zarr_store[\"analysed_sst\"].metadata.attributes\n",
    "offset, scale = sst_attrs['add_offset'], sst_attrs['scale_factor']\n",
    "scaled_sst_mean = (sst_mean*scale) + offset"
   ]
  },
  {
   "cell_type": "markdown",
   "id": "7f8fd5d4-3cc3-44d5-90b5-207155314be4",
   "metadata": {},
   "source": [
    "#### 5h. Plot data"
   ]
  },
  {
   "cell_type": "code",
   "execution_count": null,
   "id": "91b05357-e465-45c6-ae42-f5a7211a3860",
   "metadata": {},
   "outputs": [],
   "source": [
    "%%time\n",
    "fig = plt.figure(figsize=(16, 6))\n",
    "ax = fig.add_subplot()\n",
    "plt.plot(dt_array, scaled_sst_mean)\n",
    "plt.title(\"Mean SST Over Time\")\n",
    "plt.xlabel(\"Time Index\")\n",
    "plt.ylabel(\"Sea Surface Temperature (°C)\")  # Replace with correct units\n",
    "plt.show()"
   ]
  },
  {
   "cell_type": "markdown",
   "id": "34410531-f720-4f04-bee0-9e2251623fa9",
   "metadata": {},
   "source": [
    "## Step 6: Visualize the data"
   ]
  },
  {
   "cell_type": "code",
   "execution_count": null,
   "id": "e7a7d197-b96e-4db2-a7a0-028bba63583e",
   "metadata": {},
   "outputs": [],
   "source": [
    "# Enable Panel/HoloViews extensions\n",
    "hv.extension('bokeh')\n",
    "pn.extension()\n",
    "\n",
    "# `masked_array` is from the reading icechunk with zarr-python section\n",
    "scaled_sst = (masked_array*scale) + offset\n",
    "shape = scaled_sst.shape\n",
    "\n",
    "# Get number of time steps\n",
    "n_times = shape[0]\n",
    "\n",
    "# Create coordinate arrays\n",
    "times = zarr_store['time'][:]\n",
    "# `lat_indices` and `lon_indices` are from the reading icechunk with zarr-python section\n",
    "lats = zarr_store['lat'][lat_indices[0]:lat_indices[1]]\n",
    "lons = zarr_store['lon'][lon_indices[0]:lon_indices[1]]"
   ]
  },
  {
   "cell_type": "code",
   "execution_count": null,
   "id": "fd4f2727-d002-4ee4-9cdb-27916bd8bbbe",
   "metadata": {},
   "outputs": [],
   "source": [
    "# Create the time index slider\n",
    "time_slider = pn.widgets.IntSlider(\n",
    "    name='Time Index', \n",
    "    start=0, \n",
    "    end=n_times-1, \n",
    "    value=0\n",
    ")\n",
    "\n",
    "# Create a function to generate the plot for a given time index\n",
    "def plot_sst(time_idx):\n",
    "    # Extract the data for the given time step\n",
    "    time_slice = scaled_sst[time_idx, :, :]\n",
    "    \n",
    "    # Format timestamp (adjust based on your time values)\n",
    "    if isinstance(times[time_idx], np.datetime64):\n",
    "        time_str = np.datetime_as_string(times[time_idx], unit='D')\n",
    "    else:\n",
    "        time_str = f\"Step {time_idx}\"\n",
    "    \n",
    "    # Create a HoloViews Image object\n",
    "    img = hv.Image((lons, lats, time_slice), kdims=['Longitude', 'Latitude'], vdims=['SST'])\n",
    "    \n",
    "    # Apply styling\n",
    "    img = img.opts(\n",
    "        opts.Image(\n",
    "            cmap='turbo',\n",
    "            colorbar=True,\n",
    "            clim=(281, 289),\n",
    "            width=700,\n",
    "            height=700,\n",
    "            title=f'Sea Surface Temperature - {time_str}'\n",
    "        )\n",
    "    )\n",
    "    \n",
    "    return img\n",
    "\n",
    "# Create a DynamicMap that updates with the slider\n",
    "dmap = hv.DynamicMap(plot_sst, kdims=['time_idx']).redim.range(time_idx=(0, n_times-1))\n",
    "# Explicitly bind the DynamicMap to the slider\n",
    "dmap = dmap.apply(lambda obj: obj.clone(time_idx=time_slider.value))\n",
    "\n",
    "# Create play/pause widget with a callback to update the slider\n",
    "player = pn.widgets.Player(\n",
    "    name='Play',\n",
    "    start=0,\n",
    "    end=n_times-1,\n",
    "    value=0,\n",
    "    interval=25,  # Update every 200ms - adjust as needed\n",
    "    loop_policy='loop'\n",
    ")\n",
    "\n",
    "# Make sure the player updates the slider, which in turn updates the plot\n",
    "def update_slider(event):\n",
    "    time_slider.value = event.new\n",
    "    \n",
    "player.param.watch(update_slider, 'value')\n",
    "\n",
    "# Create a reactive function that outputs a Panel object with the current plot\n",
    "@pn.depends(time_idx=time_slider)\n",
    "def get_current_plot(time_idx):\n",
    "    return plot_sst(time_idx)\n",
    "\n",
    "# Create the layout\n",
    "dashboard = pn.Column(\n",
    "    \"## Sea Surface Temperature Time Animation (Direct Zarr)\",\n",
    "    pn.Row(player, time_slider),\n",
    "    get_current_plot\n",
    ")\n",
    "\n",
    "# Display the dashboard\n",
    "dashboard.servable()"
   ]
  },
  {
   "cell_type": "code",
   "execution_count": null,
   "id": "c4161552-fe66-41c7-a4c0-5ccdfd7b47bf",
   "metadata": {},
   "outputs": [],
   "source": []
  }
 ],
 "metadata": {
  "kernelspec": {
   "display_name": "Python 3 (ipykernel)",
   "language": "python",
   "name": "python3"
  },
  "language_info": {
   "codemirror_mode": {
    "name": "ipython",
    "version": 3
   },
   "file_extension": ".py",
   "mimetype": "text/x-python",
   "name": "python",
   "nbconvert_exporter": "python",
   "pygments_lexer": "ipython3",
   "version": "3.11.13"
  }
 },
 "nbformat": 4,
 "nbformat_minor": 5
}
